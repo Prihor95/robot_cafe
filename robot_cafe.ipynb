{
 "cells": [
  {
   "cell_type": "markdown",
   "metadata": {},
   "source": [
    "# Descripción del proyecto"
   ]
  },
  {
   "cell_type": "markdown",
   "metadata": {},
   "source": [
    "Has decidido abrir un pequeño café regentado por robots en Los Ángeles. El proyecto es prometedor pero caro, así que tú y tus compañeros decidís intentar atraer inversionistas. Están interesados en las condiciones actuales del mercado, ¿serás capaz de mantener tu éxito cuando la novedad de los camareros robot desaparezca?\n",
    "\n",
    "Eres un gurú del análisis así que te han pedido que prepares un estudio de mercado. Tienes datos procedentes de fuentes abiertas sobre restaurantes en LA."
   ]
  },
  {
   "cell_type": "markdown",
   "metadata": {},
   "source": [
    "Tabla rest_data:\n",
    "\n",
    "* object_name — nombre del establecimiento,\n",
    "* chain — establecimiento que pertenece a una cadena (TRUE/FALSE),\n",
    "* object_type — tipo de establecimiento,\n",
    "* address — dirección,\n",
    "* number — número de asientos,"
   ]
  },
  {
   "cell_type": "markdown",
   "metadata": {},
   "source": [
    "## Preparación de los datos"
   ]
  },
  {
   "cell_type": "code",
   "execution_count": 1,
   "metadata": {},
   "outputs": [],
   "source": [
    "#Importación de librerias\n",
    "import pandas as pd\n",
    "import matplotlib.pyplot as plt\n",
    "import seaborn as sns\n",
    "from numpy import mean"
   ]
  },
  {
   "cell_type": "code",
   "execution_count": 2,
   "metadata": {},
   "outputs": [],
   "source": [
    "# Se importa el dataframe\n",
    "rest_data=pd.read_csv('/datasets/rest_data_us_upd.csv')"
   ]
  },
  {
   "cell_type": "code",
   "execution_count": 3,
   "metadata": {},
   "outputs": [
    {
     "name": "stdout",
     "output_type": "stream",
     "text": [
      "         id          object_name                      address  chain  \\\n",
      "0     11786  HABITAT COFFEE SHOP       3708 N EAGLE ROCK BLVD  False   \n",
      "1     11787             REILLY'S            100 WORLD WAY 120  False   \n",
      "2     11788       STREET CHURROS      6801 HOLLYWOOD BLVD 253  False   \n",
      "3     11789    TRINITI ECHO PARK           1814 W SUNSET BLVD  False   \n",
      "4     11790               POLLEN           2100 ECHO PARK AVE  False   \n",
      "...     ...                  ...                          ...    ...   \n",
      "9646  21432      HALL OF JUSTICE             217 W TEMPLE AVE  False   \n",
      "9647  21433          FIN-MELROSE             5750 MELROSE AVE  False   \n",
      "9648  21434          JUICY WINGZ          6741 HOLLYWOOD BLVD   True   \n",
      "9649  21435      MEDIDATE COFFEE      548 S SPRING ST STE 100  False   \n",
      "9650  21436         CAFE SPROUTS  1300 S SAN PEDRO ST STE 111   True   \n",
      "\n",
      "     object_type  number  \n",
      "0           Cafe      26  \n",
      "1     Restaurant       9  \n",
      "2      Fast Food      20  \n",
      "3     Restaurant      22  \n",
      "4     Restaurant      20  \n",
      "...          ...     ...  \n",
      "9646  Restaurant     122  \n",
      "9647  Restaurant      93  \n",
      "9648   Fast Food      15  \n",
      "9649        Cafe       6  \n",
      "9650  Restaurant      19  \n",
      "\n",
      "[9651 rows x 6 columns]\n"
     ]
    }
   ],
   "source": [
    "print(rest_data)"
   ]
  },
  {
   "cell_type": "code",
   "execution_count": 4,
   "metadata": {},
   "outputs": [
    {
     "data": {
      "text/plain": [
       "3607 TROUSDALE PKWY             11\n",
       "135 N GRAND AVE                 10\n",
       "600 WORLD WAY                    9\n",
       "5151 STATE UNIVERSITY DR         9\n",
       "400 WORLD WAY                    9\n",
       "                                ..\n",
       "10250 SANTA MONICA BLVD 1790     1\n",
       "11700 NATIONAL BLVD STE #N       1\n",
       "3785 WILSHIRE BLVD STE 32        1\n",
       "5401 S FIGUEROA ST               1\n",
       "926 BROXTON AVE                  1\n",
       "Name: address, Length: 8512, dtype: int64"
      ]
     },
     "execution_count": 4,
     "metadata": {},
     "output_type": "execute_result"
    }
   ],
   "source": [
    "#Revisamos la frecuencia de algunas calles.\n",
    "rest_data['address'].value_counts()"
   ]
  },
  {
   "cell_type": "code",
   "execution_count": 5,
   "metadata": {},
   "outputs": [
    {
     "name": "stdout",
     "output_type": "stream",
     "text": [
      "<class 'pandas.core.frame.DataFrame'>\n",
      "RangeIndex: 9651 entries, 0 to 9650\n",
      "Data columns (total 6 columns):\n",
      " #   Column       Non-Null Count  Dtype \n",
      "---  ------       --------------  ----- \n",
      " 0   id           9651 non-null   int64 \n",
      " 1   object_name  9651 non-null   object\n",
      " 2   address      9651 non-null   object\n",
      " 3   chain        9648 non-null   object\n",
      " 4   object_type  9651 non-null   object\n",
      " 5   number       9651 non-null   int64 \n",
      "dtypes: int64(2), object(4)\n",
      "memory usage: 452.5+ KB\n"
     ]
    }
   ],
   "source": [
    "rest_data.info()"
   ]
  },
  {
   "cell_type": "code",
   "execution_count": 6,
   "metadata": {},
   "outputs": [
    {
     "data": {
      "text/plain": [
       "False    5972\n",
       "True     3676\n",
       "Name: chain, dtype: int64"
      ]
     },
     "execution_count": 6,
     "metadata": {},
     "output_type": "execute_result"
    }
   ],
   "source": [
    "rest_data['chain'].value_counts()"
   ]
  },
  {
   "cell_type": "code",
   "execution_count": 7,
   "metadata": {},
   "outputs": [
    {
     "data": {
      "text/plain": [
       "3"
      ]
     },
     "execution_count": 7,
     "metadata": {},
     "output_type": "execute_result"
    }
   ],
   "source": [
    "#Revisamos cuantos valores ausentes tenemos\n",
    "rest_data['chain'].isna().sum()"
   ]
  },
  {
   "cell_type": "code",
   "execution_count": 8,
   "metadata": {},
   "outputs": [
    {
     "data": {
      "text/plain": [
       "0"
      ]
     },
     "execution_count": 8,
     "metadata": {},
     "output_type": "execute_result"
    }
   ],
   "source": [
    "# Se verifica que nuestras columnas que almacenan valores que deben ser unicos no contengan duplicados.\n",
    "rest_data['id'].duplicated().sum()"
   ]
  },
  {
   "cell_type": "code",
   "execution_count": 9,
   "metadata": {},
   "outputs": [
    {
     "data": {
      "text/plain": [
       "id             0\n",
       "object_name    0\n",
       "address        0\n",
       "chain          3\n",
       "object_type    0\n",
       "number         0\n",
       "dtype: int64"
      ]
     },
     "execution_count": 9,
     "metadata": {},
     "output_type": "execute_result"
    }
   ],
   "source": [
    "rest_data.isna().sum()"
   ]
  },
  {
   "cell_type": "code",
   "execution_count": 10,
   "metadata": {},
   "outputs": [
    {
     "data": {
      "text/html": [
       "<div>\n",
       "<style scoped>\n",
       "    .dataframe tbody tr th:only-of-type {\n",
       "        vertical-align: middle;\n",
       "    }\n",
       "\n",
       "    .dataframe tbody tr th {\n",
       "        vertical-align: top;\n",
       "    }\n",
       "\n",
       "    .dataframe thead th {\n",
       "        text-align: right;\n",
       "    }\n",
       "</style>\n",
       "<table border=\"1\" class=\"dataframe\">\n",
       "  <thead>\n",
       "    <tr style=\"text-align: right;\">\n",
       "      <th></th>\n",
       "      <th>id</th>\n",
       "      <th>object_name</th>\n",
       "      <th>address</th>\n",
       "      <th>chain</th>\n",
       "      <th>object_type</th>\n",
       "      <th>number</th>\n",
       "    </tr>\n",
       "  </thead>\n",
       "  <tbody>\n",
       "    <tr>\n",
       "      <th>0</th>\n",
       "      <td>11786</td>\n",
       "      <td>HABITAT COFFEE SHOP</td>\n",
       "      <td>3708 N EAGLE ROCK BLVD</td>\n",
       "      <td>False</td>\n",
       "      <td>Cafe</td>\n",
       "      <td>26</td>\n",
       "    </tr>\n",
       "    <tr>\n",
       "      <th>1</th>\n",
       "      <td>11787</td>\n",
       "      <td>REILLY'S</td>\n",
       "      <td>100 WORLD WAY 120</td>\n",
       "      <td>False</td>\n",
       "      <td>Restaurant</td>\n",
       "      <td>9</td>\n",
       "    </tr>\n",
       "  </tbody>\n",
       "</table>\n",
       "</div>"
      ],
      "text/plain": [
       "      id          object_name                 address  chain object_type  \\\n",
       "0  11786  HABITAT COFFEE SHOP  3708 N EAGLE ROCK BLVD  False        Cafe   \n",
       "1  11787             REILLY'S       100 WORLD WAY 120  False  Restaurant   \n",
       "\n",
       "   number  \n",
       "0      26  \n",
       "1       9  "
      ]
     },
     "execution_count": 10,
     "metadata": {},
     "output_type": "execute_result"
    }
   ],
   "source": [
    "rest_data.head(2)"
   ]
  },
  {
   "cell_type": "code",
   "execution_count": 11,
   "metadata": {
    "scrolled": true
   },
   "outputs": [
    {
     "data": {
      "text/html": [
       "<div>\n",
       "<style scoped>\n",
       "    .dataframe tbody tr th:only-of-type {\n",
       "        vertical-align: middle;\n",
       "    }\n",
       "\n",
       "    .dataframe tbody tr th {\n",
       "        vertical-align: top;\n",
       "    }\n",
       "\n",
       "    .dataframe thead th {\n",
       "        text-align: right;\n",
       "    }\n",
       "</style>\n",
       "<table border=\"1\" class=\"dataframe\">\n",
       "  <thead>\n",
       "    <tr style=\"text-align: right;\">\n",
       "      <th></th>\n",
       "      <th>id</th>\n",
       "      <th>object_name</th>\n",
       "      <th>address</th>\n",
       "      <th>chain</th>\n",
       "      <th>object_type</th>\n",
       "      <th>number</th>\n",
       "    </tr>\n",
       "  </thead>\n",
       "  <tbody>\n",
       "    <tr>\n",
       "      <th>0</th>\n",
       "      <td>11786</td>\n",
       "      <td>HABITAT COFFEE SHOP</td>\n",
       "      <td>3708 N EAGLE ROCK BLVD</td>\n",
       "      <td>No pertenece a una cadena</td>\n",
       "      <td>Cafe</td>\n",
       "      <td>26</td>\n",
       "    </tr>\n",
       "  </tbody>\n",
       "</table>\n",
       "</div>"
      ],
      "text/plain": [
       "      id          object_name                 address  \\\n",
       "0  11786  HABITAT COFFEE SHOP  3708 N EAGLE ROCK BLVD   \n",
       "\n",
       "                       chain object_type  number  \n",
       "0  No pertenece a una cadena        Cafe      26  "
      ]
     },
     "execution_count": 11,
     "metadata": {},
     "output_type": "execute_result"
    }
   ],
   "source": [
    "#Cambiamos las leyendas de nuestra columna chain para que sea mas fácil usarla en gráficos.\n",
    "rest_data['chain'] = rest_data['chain'].replace({True:'Pertenece a una cadena',False:'No pertenece a una cadena'})\n",
    "rest_data.head(1)"
   ]
  },
  {
   "cell_type": "markdown",
   "metadata": {},
   "source": [
    "### Investiga las proporciones de los distintos tipos de establecimientos. Traza un gráfico."
   ]
  },
  {
   "cell_type": "code",
   "execution_count": 12,
   "metadata": {},
   "outputs": [
    {
     "data": {
      "text/plain": [
       "Restaurant    7255\n",
       "Fast Food     1066\n",
       "Cafe           435\n",
       "Pizza          320\n",
       "Bar            292\n",
       "Bakery         283\n",
       "Name: object_type, dtype: int64"
      ]
     },
     "execution_count": 12,
     "metadata": {},
     "output_type": "execute_result"
    }
   ],
   "source": [
    "#Visualizamos que tipos de establecimientos tenemos\n",
    "rest_data['object_type'].value_counts()"
   ]
  },
  {
   "cell_type": "code",
   "execution_count": 13,
   "metadata": {},
   "outputs": [
    {
     "data": {
      "text/html": [
       "<div>\n",
       "<style scoped>\n",
       "    .dataframe tbody tr th:only-of-type {\n",
       "        vertical-align: middle;\n",
       "    }\n",
       "\n",
       "    .dataframe tbody tr th {\n",
       "        vertical-align: top;\n",
       "    }\n",
       "\n",
       "    .dataframe thead th {\n",
       "        text-align: right;\n",
       "    }\n",
       "</style>\n",
       "<table border=\"1\" class=\"dataframe\">\n",
       "  <thead>\n",
       "    <tr style=\"text-align: right;\">\n",
       "      <th></th>\n",
       "      <th>object_type</th>\n",
       "      <th>quantity</th>\n",
       "    </tr>\n",
       "  </thead>\n",
       "  <tbody>\n",
       "    <tr>\n",
       "      <th>5</th>\n",
       "      <td>Restaurant</td>\n",
       "      <td>7255</td>\n",
       "    </tr>\n",
       "    <tr>\n",
       "      <th>3</th>\n",
       "      <td>Fast Food</td>\n",
       "      <td>1066</td>\n",
       "    </tr>\n",
       "    <tr>\n",
       "      <th>2</th>\n",
       "      <td>Cafe</td>\n",
       "      <td>435</td>\n",
       "    </tr>\n",
       "    <tr>\n",
       "      <th>4</th>\n",
       "      <td>Pizza</td>\n",
       "      <td>320</td>\n",
       "    </tr>\n",
       "    <tr>\n",
       "      <th>1</th>\n",
       "      <td>Bar</td>\n",
       "      <td>292</td>\n",
       "    </tr>\n",
       "    <tr>\n",
       "      <th>0</th>\n",
       "      <td>Bakery</td>\n",
       "      <td>283</td>\n",
       "    </tr>\n",
       "  </tbody>\n",
       "</table>\n",
       "</div>"
      ],
      "text/plain": [
       "  object_type  quantity\n",
       "5  Restaurant      7255\n",
       "3   Fast Food      1066\n",
       "2        Cafe       435\n",
       "4       Pizza       320\n",
       "1         Bar       292\n",
       "0      Bakery       283"
      ]
     },
     "execution_count": 13,
     "metadata": {},
     "output_type": "execute_result"
    }
   ],
   "source": [
    "# Agrupamos por tipo de establecimiento y contamos cuantos existen por categoria.\n",
    "category= rest_data.groupby('object_type').agg(quantity=('object_type', 'count')).reset_index().sort_values(by='quantity',ascending=False)\n",
    "category"
   ]
  },
  {
   "cell_type": "code",
   "execution_count": 14,
   "metadata": {},
   "outputs": [
    {
     "data": {
      "image/png": "[encoded data removed]",
      "text/plain": [
       "<Figure size 800x1000 with 1 Axes>"
      ]
     },
     "metadata": {},
     "output_type": "display_data"
    },
    {
     "data": {
      "text/plain": [
       "<Figure size 640x480 with 0 Axes>"
      ]
     },
     "metadata": {},
     "output_type": "display_data"
    }
   ],
   "source": [
    "#creamos un grafico de pastel para representar las proporciones de las categorias de establecimiento.\n",
    "\n",
    "fig, test = plt.subplots()\n",
    "#creamos una variable para extraer cafe del grafico\n",
    "extraccion= 0,0,0.4,0,0,0\n",
    "plt.pie(\n",
    "    category.quantity,\n",
    "    labels=category.object_type,\n",
    "    autopct='%1.1f%%',\n",
    "    startangle=90,\n",
    "    explode=extraccion,\n",
    "    colors=sns.color_palette('pastel')\n",
    ")\n",
    "\n",
    "#agregamos la leyenda al gráfico\n",
    "test.legend()\n",
    "\n",
    "#agregamos un titulo\n",
    "test.set_title('Proporciones por tipo de establecimiento')\n",
    "\n",
    "#cambiamos las dimensiones del gráfico\n",
    "fig.set_figheight(10)# altura (height)\n",
    "fig.set_figwidth(8) # anchura (width)\n",
    "plt.show()\n",
    "plt.savefig('grafico_proporciones_establecimiento.png', format='png', dpi=300, bbox_inches='tight')"
   ]
  },
  {
   "cell_type": "markdown",
   "metadata": {},
   "source": [
    "Podemos observar en este grafico de pastel que los restaurantes representan al 75% de los negocios dentro de la ciudad, por otro lado, las cafeterias representan solo el 4.5% de los establecimientos, lo cuál indica que tendriamos mayores posibilidades de tener exito ya que la competencia es mucho menor que la de un restaurante."
   ]
  },
  {
   "cell_type": "markdown",
   "metadata": {},
   "source": []
  },
  {
   "cell_type": "markdown",
   "metadata": {},
   "source": [
    "### Investiga las proporciones de los establecimientos que pertenecen a una cadena y de los que no. Traza un gráfico.\n"
   ]
  },
  {
   "cell_type": "code",
   "execution_count": 15,
   "metadata": {},
   "outputs": [
    {
     "data": {
      "text/html": [
       "<div>\n",
       "<style scoped>\n",
       "    .dataframe tbody tr th:only-of-type {\n",
       "        vertical-align: middle;\n",
       "    }\n",
       "\n",
       "    .dataframe tbody tr th {\n",
       "        vertical-align: top;\n",
       "    }\n",
       "\n",
       "    .dataframe thead th {\n",
       "        text-align: right;\n",
       "    }\n",
       "</style>\n",
       "<table border=\"1\" class=\"dataframe\">\n",
       "  <thead>\n",
       "    <tr style=\"text-align: right;\">\n",
       "      <th></th>\n",
       "      <th>chain</th>\n",
       "      <th>chain_count</th>\n",
       "    </tr>\n",
       "  </thead>\n",
       "  <tbody>\n",
       "    <tr>\n",
       "      <th>0</th>\n",
       "      <td>No pertenece a una cadena</td>\n",
       "      <td>5972</td>\n",
       "    </tr>\n",
       "    <tr>\n",
       "      <th>1</th>\n",
       "      <td>Pertenece a una cadena</td>\n",
       "      <td>3676</td>\n",
       "    </tr>\n",
       "  </tbody>\n",
       "</table>\n",
       "</div>"
      ],
      "text/plain": [
       "                       chain  chain_count\n",
       "0  No pertenece a una cadena         5972\n",
       "1     Pertenece a una cadena         3676"
      ]
     },
     "execution_count": 15,
     "metadata": {},
     "output_type": "execute_result"
    }
   ],
   "source": [
    "#Agrupamos por cadena y contamos las veces que se repite.\n",
    "chain_proportion  = rest_data.groupby('chain').agg(chain_count=('chain','count')).reset_index()\n",
    "chain_proportion"
   ]
  },
  {
   "cell_type": "code",
   "execution_count": 16,
   "metadata": {},
   "outputs": [
    {
     "data": {
      "image/png": "[encoded data removed]",
      "text/plain": [
       "<Figure size 800x1000 with 1 Axes>"
      ]
     },
     "metadata": {},
     "output_type": "display_data"
    }
   ],
   "source": [
    "fig, test = plt.subplots()\n",
    "\n",
    "plt.pie(\n",
    "    chain_proportion.chain_count,\n",
    "    labels= chain_proportion.chain,\n",
    "    autopct='%1.1f%%',\n",
    "    startangle=90,\n",
    "    colors=sns.color_palette('pastel')\n",
    ")\n",
    "#agregamos la leyenda al gráfico\n",
    "test.legend()\n",
    "\n",
    "#agregamos un titulo\n",
    "test.set_title('Proporciones por de los establecimientos que pertenecen a una cadena')\n",
    "\n",
    "#cambiamos las dimensiones del gráfico\n",
    "fig.set_figheight(10)# altura (height)\n",
    "fig.set_figwidth(8) # anchura (width)\n",
    "\n",
    "plt.show()"
   ]
  },
  {
   "cell_type": "markdown",
   "metadata": {},
   "source": [
    "Por otro lado, podemos observar que solo el 38% de los establecimientos pertenece a una franquicia, lo cual nos indica que la mayoria de los establecimientos son unicos, brindandonos oportunidad frente al 61% de resaltar por nuestra tematica unica de robots como meseros."
   ]
  },
  {
   "cell_type": "markdown",
   "metadata": {},
   "source": [
    "### ¿Qué tipo de establecimiento es habitualmente una cadena?"
   ]
  },
  {
   "cell_type": "code",
   "execution_count": 17,
   "metadata": {},
   "outputs": [
    {
     "data": {
      "text/html": [
       "<div>\n",
       "<style scoped>\n",
       "    .dataframe tbody tr th:only-of-type {\n",
       "        vertical-align: middle;\n",
       "    }\n",
       "\n",
       "    .dataframe tbody tr th {\n",
       "        vertical-align: top;\n",
       "    }\n",
       "\n",
       "    .dataframe thead th {\n",
       "        text-align: right;\n",
       "    }\n",
       "</style>\n",
       "<table border=\"1\" class=\"dataframe\">\n",
       "  <thead>\n",
       "    <tr style=\"text-align: right;\">\n",
       "      <th>chain</th>\n",
       "      <th>No pertenece a una cadena</th>\n",
       "      <th>Pertenece a una cadena</th>\n",
       "    </tr>\n",
       "    <tr>\n",
       "      <th>object_type</th>\n",
       "      <th></th>\n",
       "      <th></th>\n",
       "    </tr>\n",
       "  </thead>\n",
       "  <tbody>\n",
       "    <tr>\n",
       "      <th>Bakery</th>\n",
       "      <td>0.000000</td>\n",
       "      <td>1.000000</td>\n",
       "    </tr>\n",
       "    <tr>\n",
       "      <th>Cafe</th>\n",
       "      <td>0.388506</td>\n",
       "      <td>0.611494</td>\n",
       "    </tr>\n",
       "    <tr>\n",
       "      <th>Fast Food</th>\n",
       "      <td>0.432458</td>\n",
       "      <td>0.567542</td>\n",
       "    </tr>\n",
       "    <tr>\n",
       "      <th>Pizza</th>\n",
       "      <td>0.520376</td>\n",
       "      <td>0.479624</td>\n",
       "    </tr>\n",
       "    <tr>\n",
       "      <th>Restaurant</th>\n",
       "      <td>0.683993</td>\n",
       "      <td>0.316007</td>\n",
       "    </tr>\n",
       "    <tr>\n",
       "      <th>Bar</th>\n",
       "      <td>0.736301</td>\n",
       "      <td>0.263699</td>\n",
       "    </tr>\n",
       "  </tbody>\n",
       "</table>\n",
       "</div>"
      ],
      "text/plain": [
       "chain        No pertenece a una cadena  Pertenece a una cadena\n",
       "object_type                                                   \n",
       "Bakery                        0.000000                1.000000\n",
       "Cafe                          0.388506                0.611494\n",
       "Fast Food                     0.432458                0.567542\n",
       "Pizza                         0.520376                0.479624\n",
       "Restaurant                    0.683993                0.316007\n",
       "Bar                           0.736301                0.263699"
      ]
     },
     "execution_count": 17,
     "metadata": {},
     "output_type": "execute_result"
    }
   ],
   "source": [
    "#Agrupamos por tipo de establecimiento y cadena, utilizamos size para obtener el tamaño de cada grupo, y unstack para cambiar las columnas\n",
    "\n",
    "chain_count= rest_data.groupby(['object_type','chain']).size().unstack(fill_value=0)\n",
    "\n",
    "proportions = chain_count.div(chain_count.sum(axis=1),axis=0).sort_values(by='Pertenece a una cadena',ascending=False)\n",
    "proportions \n",
    "proportions"
   ]
  },
  {
   "cell_type": "code",
   "execution_count": 18,
   "metadata": {},
   "outputs": [
    {
     "data": {
      "image/png": "[encoded data removed]",
      "text/plain": [
       "<Figure size 1000x600 with 1 Axes>"
      ]
     },
     "metadata": {},
     "output_type": "display_data"
    }
   ],
   "source": [
    "#Creamos gráfico de barras con los valores encimados para que sea representativa la proporción. \n",
    "proportions.plot(kind='bar', stacked=True, color=['#66c2a5', '#fc8d62'], figsize=(10, 6))\n",
    "plt.title('Proporción de Restaurantes por Categoría y Pertenencia a Cadena')\n",
    "plt.xlabel('Categoría')\n",
    "plt.ylabel('proportion')\n",
    "plt.xticks(rotation=45)\n",
    "plt.legend(['No pertenece a cadena', 'Pertenece a cadena'])\n",
    "\n",
    "# Añadir los valores de proporción sobre cada barra\n",
    "for index, bar in enumerate(plt.gca().patches):\n",
    "    # Obtenemos las coordenadas x e y para posicionar el texto\n",
    "    x = bar.get_x() + bar.get_width() / 2\n",
    "    y = bar.get_y() + bar.get_height() / 2\n",
    "    \n",
    "    # Obtenemos el valor de la altura de la barra, que corresponde a la proporción\n",
    "    height = bar.get_height()\n",
    "    \n",
    "    # Mostramos el valor en el gráfico\n",
    "    plt.gca().text(x, y, f'{height * 100:.1f}%', ha='center', va='center', color='white')\n",
    "\n",
    "plt.show()"
   ]
  },
  {
   "cell_type": "markdown",
   "metadata": {},
   "source": [
    "En este gráfico podemos observar la proporcion que representan los establecimientos en cada una de sus categorias, estan ordenados conforme al porcentaje de establecimientos que conforman parte de una cadena.\n",
    "* Podemos observar que las panaderias son las que en un 100% son establecimientos de cadena.\n",
    "* Para el ramo de nuestro negocio de la cafeteria, obtenemos que solo 38.9% de los establecimientos no pertenecen a una cadena, en nuestro caso es favorable ya que estariamos compitiendo directamente contra este porcentaje. "
   ]
  },
  {
   "cell_type": "markdown",
   "metadata": {},
   "source": [
    "### ¿Qué caracteriza a las cadenas: muchos establecimientos con un pequeño número de asientos o unos pocos establecimientos con un montón de asientos?"
   ]
  },
  {
   "cell_type": "code",
   "execution_count": 19,
   "metadata": {},
   "outputs": [
    {
     "data": {
      "text/html": [
       "<div>\n",
       "<style scoped>\n",
       "    .dataframe tbody tr th:only-of-type {\n",
       "        vertical-align: middle;\n",
       "    }\n",
       "\n",
       "    .dataframe tbody tr th {\n",
       "        vertical-align: top;\n",
       "    }\n",
       "\n",
       "    .dataframe thead th {\n",
       "        text-align: right;\n",
       "    }\n",
       "</style>\n",
       "<table border=\"1\" class=\"dataframe\">\n",
       "  <thead>\n",
       "    <tr style=\"text-align: right;\">\n",
       "      <th></th>\n",
       "      <th>id</th>\n",
       "      <th>number</th>\n",
       "    </tr>\n",
       "  </thead>\n",
       "  <tbody>\n",
       "    <tr>\n",
       "      <th>count</th>\n",
       "      <td>3676.000000</td>\n",
       "      <td>3676.000000</td>\n",
       "    </tr>\n",
       "    <tr>\n",
       "      <th>mean</th>\n",
       "      <td>16626.003808</td>\n",
       "      <td>39.694233</td>\n",
       "    </tr>\n",
       "    <tr>\n",
       "      <th>std</th>\n",
       "      <td>2747.437824</td>\n",
       "      <td>43.437212</td>\n",
       "    </tr>\n",
       "    <tr>\n",
       "      <th>min</th>\n",
       "      <td>11794.000000</td>\n",
       "      <td>1.000000</td>\n",
       "    </tr>\n",
       "    <tr>\n",
       "      <th>25%</th>\n",
       "      <td>14281.500000</td>\n",
       "      <td>13.000000</td>\n",
       "    </tr>\n",
       "    <tr>\n",
       "      <th>50%</th>\n",
       "      <td>16624.500000</td>\n",
       "      <td>25.000000</td>\n",
       "    </tr>\n",
       "    <tr>\n",
       "      <th>75%</th>\n",
       "      <td>19015.500000</td>\n",
       "      <td>44.000000</td>\n",
       "    </tr>\n",
       "    <tr>\n",
       "      <th>80%</th>\n",
       "      <td>19483.000000</td>\n",
       "      <td>48.000000</td>\n",
       "    </tr>\n",
       "    <tr>\n",
       "      <th>90%</th>\n",
       "      <td>20361.000000</td>\n",
       "      <td>107.000000</td>\n",
       "    </tr>\n",
       "    <tr>\n",
       "      <th>95%</th>\n",
       "      <td>20847.250000</td>\n",
       "      <td>140.000000</td>\n",
       "    </tr>\n",
       "    <tr>\n",
       "      <th>max</th>\n",
       "      <td>21436.000000</td>\n",
       "      <td>229.000000</td>\n",
       "    </tr>\n",
       "  </tbody>\n",
       "</table>\n",
       "</div>"
      ],
      "text/plain": [
       "                 id       number\n",
       "count   3676.000000  3676.000000\n",
       "mean   16626.003808    39.694233\n",
       "std     2747.437824    43.437212\n",
       "min    11794.000000     1.000000\n",
       "25%    14281.500000    13.000000\n",
       "50%    16624.500000    25.000000\n",
       "75%    19015.500000    44.000000\n",
       "80%    19483.000000    48.000000\n",
       "90%    20361.000000   107.000000\n",
       "95%    20847.250000   140.000000\n",
       "max    21436.000000   229.000000"
      ]
     },
     "execution_count": 19,
     "metadata": {},
     "output_type": "execute_result"
    }
   ],
   "source": [
    "#Filtramos solo los establecimientos que pertenecen a una cadena.\n",
    "chain_filtered = rest_data[rest_data['chain']=='Pertenece a una cadena']\n",
    "chain_filtered.describe(percentiles= [0.25,0.50,0.75,0.8, 0.9,0.95])"
   ]
  },
  {
   "cell_type": "code",
   "execution_count": 20,
   "metadata": {},
   "outputs": [
    {
     "data": {
      "image/png": "[encoded data removed]",
      "text/plain": [
       "<Figure size 640x480 with 1 Axes>"
      ]
     },
     "metadata": {},
     "output_type": "display_data"
    }
   ],
   "source": [
    "# Crear histograma para la distribución del número de asientos\n",
    "sns.histplot(\n",
    "    data=chain_filtered,\n",
    "    x='number',\n",
    "    bins=30,  # Ajusta el número de bins según tus necesidades\n",
    "    kde=True,  # Agregar una línea de densidad estimada\n",
    "    palette='viridis'  # Cambia la paleta de colores si lo deseas\n",
    ")\n",
    "\n",
    "plt.title('Distribución del Número de Asientos en cadenas')\n",
    "plt.xlabel('Número de Asientos')\n",
    "plt.ylabel('Frecuencia')\n",
    "plt.show()"
   ]
  },
  {
   "cell_type": "markdown",
   "metadata": {},
   "source": [
    "Aunque nuestra distribución no nos arrojo una campana, podemos observar que las cadenas tienen tendencia a tener poco numeros de asientos. Que representa aproximadamente al 80% de los restaurantes de cadena. Por lo cual, seria bueno tomar este dato como base para establecer el numero de asientos que deberia tener nuestro establecimiento.\n"
   ]
  },
  {
   "cell_type": "markdown",
   "metadata": {},
   "source": [
    "### Determina el promedio de número de asientos para cada tipo de restaurante. De promedio, ¿qué tipo de restaurante tiene el mayor número de asientos? Traza gráficos."
   ]
  },
  {
   "cell_type": "code",
   "execution_count": 21,
   "metadata": {},
   "outputs": [
    {
     "data": {
      "image/png": "[encoded data removed]",
      "text/plain": [
       "<Figure size 800x1000 with 1 Axes>"
      ]
     },
     "metadata": {},
     "output_type": "display_data"
    }
   ],
   "source": [
    "#usar el condicionador mean\n",
    "fig, test = plt.subplots()\n",
    "ax = sns.barplot(\n",
    "    x='object_type',\n",
    "    y='number',\n",
    "    data=rest_data,\n",
    "    estimator=mean,\n",
    "    hue= 'chain'\n",
    ")\n",
    "# Cambiar las leyendas de los ejes\n",
    "ax.set_xlabel('Tipo de establecimiento')\n",
    "ax.set_ylabel('Promedio de asientos por tipo de restaurante')\n",
    "\n",
    "# Agregar etiquetas manualmente\n",
    "for p in ax.patches:\n",
    "    ax.annotate(\n",
    "        format(p.get_height(), '.1f'),  # Formato del texto de la etiqueta\n",
    "        (p.get_x() + p.get_width() / 2., p.get_height()),  # Posición de la etiqueta\n",
    "        ha='center', va='center',      # Alineación del texto\n",
    "        xytext=(0, 9),                 # Desplazamiento de la posición del texto\n",
    "        textcoords='offset points'     # Coordenadas del texto\n",
    "    )\n",
    "fig.set_figheight(10)# altura (height)\n",
    "fig.set_figwidth(8) # anchura (width)\n",
    "plt.show()\n"
   ]
  },
  {
   "cell_type": "markdown",
   "metadata": {},
   "source": [
    "Contamos que tanto los restaurantes como los bares tienen un mayor número de asientos, por otro lado, las cafeterias guardan una misma proporción, "
   ]
  },
  {
   "cell_type": "markdown",
   "metadata": {},
   "source": [
    "### Coloca los datos de los nombres de las calles de la columna address en una columna separada."
   ]
  },
  {
   "cell_type": "code",
   "execution_count": 22,
   "metadata": {},
   "outputs": [
    {
     "name": "stdout",
     "output_type": "stream",
     "text": [
      "0            3708 N EAGLE ROCK BLVD\n",
      "1                 100 WORLD WAY 120\n",
      "2           6801 HOLLYWOOD BLVD 253\n",
      "3                1814 W SUNSET BLVD\n",
      "4                2100 ECHO PARK AVE\n",
      "                   ...             \n",
      "9646               217 W TEMPLE AVE\n",
      "9647               5750 MELROSE AVE\n",
      "9648            6741 HOLLYWOOD BLVD\n",
      "9649        548 S SPRING ST STE 100\n",
      "9650    1300 S SAN PEDRO ST STE 111\n",
      "Name: address, Length: 9651, dtype: object\n"
     ]
    }
   ],
   "source": [
    "print(rest_data['address'])"
   ]
  },
  {
   "cell_type": "code",
   "execution_count": 23,
   "metadata": {},
   "outputs": [],
   "source": [
    "# Utilizamos lambda para extraer el nombre de la calle.\n",
    "rest_data['street_name'] = rest_data['address'].apply(lambda x: ' '.join(x.split()[1:]))"
   ]
  },
  {
   "cell_type": "code",
   "execution_count": 24,
   "metadata": {},
   "outputs": [
    {
     "data": {
      "text/html": [
       "<div>\n",
       "<style scoped>\n",
       "    .dataframe tbody tr th:only-of-type {\n",
       "        vertical-align: middle;\n",
       "    }\n",
       "\n",
       "    .dataframe tbody tr th {\n",
       "        vertical-align: top;\n",
       "    }\n",
       "\n",
       "    .dataframe thead th {\n",
       "        text-align: right;\n",
       "    }\n",
       "</style>\n",
       "<table border=\"1\" class=\"dataframe\">\n",
       "  <thead>\n",
       "    <tr style=\"text-align: right;\">\n",
       "      <th></th>\n",
       "      <th>id</th>\n",
       "      <th>object_name</th>\n",
       "      <th>address</th>\n",
       "      <th>chain</th>\n",
       "      <th>object_type</th>\n",
       "      <th>number</th>\n",
       "      <th>street_name</th>\n",
       "    </tr>\n",
       "  </thead>\n",
       "  <tbody>\n",
       "    <tr>\n",
       "      <th>0</th>\n",
       "      <td>11786</td>\n",
       "      <td>HABITAT COFFEE SHOP</td>\n",
       "      <td>3708 N EAGLE ROCK BLVD</td>\n",
       "      <td>No pertenece a una cadena</td>\n",
       "      <td>Cafe</td>\n",
       "      <td>26</td>\n",
       "      <td>N EAGLE ROCK BLVD</td>\n",
       "    </tr>\n",
       "    <tr>\n",
       "      <th>1</th>\n",
       "      <td>11787</td>\n",
       "      <td>REILLY'S</td>\n",
       "      <td>100 WORLD WAY 120</td>\n",
       "      <td>No pertenece a una cadena</td>\n",
       "      <td>Restaurant</td>\n",
       "      <td>9</td>\n",
       "      <td>WORLD WAY 120</td>\n",
       "    </tr>\n",
       "    <tr>\n",
       "      <th>2</th>\n",
       "      <td>11788</td>\n",
       "      <td>STREET CHURROS</td>\n",
       "      <td>6801 HOLLYWOOD BLVD 253</td>\n",
       "      <td>No pertenece a una cadena</td>\n",
       "      <td>Fast Food</td>\n",
       "      <td>20</td>\n",
       "      <td>HOLLYWOOD BLVD 253</td>\n",
       "    </tr>\n",
       "    <tr>\n",
       "      <th>3</th>\n",
       "      <td>11789</td>\n",
       "      <td>TRINITI ECHO PARK</td>\n",
       "      <td>1814 W SUNSET BLVD</td>\n",
       "      <td>No pertenece a una cadena</td>\n",
       "      <td>Restaurant</td>\n",
       "      <td>22</td>\n",
       "      <td>W SUNSET BLVD</td>\n",
       "    </tr>\n",
       "    <tr>\n",
       "      <th>4</th>\n",
       "      <td>11790</td>\n",
       "      <td>POLLEN</td>\n",
       "      <td>2100 ECHO PARK AVE</td>\n",
       "      <td>No pertenece a una cadena</td>\n",
       "      <td>Restaurant</td>\n",
       "      <td>20</td>\n",
       "      <td>ECHO PARK AVE</td>\n",
       "    </tr>\n",
       "    <tr>\n",
       "      <th>...</th>\n",
       "      <td>...</td>\n",
       "      <td>...</td>\n",
       "      <td>...</td>\n",
       "      <td>...</td>\n",
       "      <td>...</td>\n",
       "      <td>...</td>\n",
       "      <td>...</td>\n",
       "    </tr>\n",
       "    <tr>\n",
       "      <th>9646</th>\n",
       "      <td>21432</td>\n",
       "      <td>HALL OF JUSTICE</td>\n",
       "      <td>217 W TEMPLE AVE</td>\n",
       "      <td>No pertenece a una cadena</td>\n",
       "      <td>Restaurant</td>\n",
       "      <td>122</td>\n",
       "      <td>W TEMPLE AVE</td>\n",
       "    </tr>\n",
       "    <tr>\n",
       "      <th>9647</th>\n",
       "      <td>21433</td>\n",
       "      <td>FIN-MELROSE</td>\n",
       "      <td>5750 MELROSE AVE</td>\n",
       "      <td>No pertenece a una cadena</td>\n",
       "      <td>Restaurant</td>\n",
       "      <td>93</td>\n",
       "      <td>MELROSE AVE</td>\n",
       "    </tr>\n",
       "    <tr>\n",
       "      <th>9648</th>\n",
       "      <td>21434</td>\n",
       "      <td>JUICY WINGZ</td>\n",
       "      <td>6741 HOLLYWOOD BLVD</td>\n",
       "      <td>Pertenece a una cadena</td>\n",
       "      <td>Fast Food</td>\n",
       "      <td>15</td>\n",
       "      <td>HOLLYWOOD BLVD</td>\n",
       "    </tr>\n",
       "    <tr>\n",
       "      <th>9649</th>\n",
       "      <td>21435</td>\n",
       "      <td>MEDIDATE COFFEE</td>\n",
       "      <td>548 S SPRING ST STE 100</td>\n",
       "      <td>No pertenece a una cadena</td>\n",
       "      <td>Cafe</td>\n",
       "      <td>6</td>\n",
       "      <td>S SPRING ST STE 100</td>\n",
       "    </tr>\n",
       "    <tr>\n",
       "      <th>9650</th>\n",
       "      <td>21436</td>\n",
       "      <td>CAFE SPROUTS</td>\n",
       "      <td>1300 S SAN PEDRO ST STE 111</td>\n",
       "      <td>Pertenece a una cadena</td>\n",
       "      <td>Restaurant</td>\n",
       "      <td>19</td>\n",
       "      <td>S SAN PEDRO ST STE 111</td>\n",
       "    </tr>\n",
       "  </tbody>\n",
       "</table>\n",
       "<p>9651 rows × 7 columns</p>\n",
       "</div>"
      ],
      "text/plain": [
       "         id          object_name                      address  \\\n",
       "0     11786  HABITAT COFFEE SHOP       3708 N EAGLE ROCK BLVD   \n",
       "1     11787             REILLY'S            100 WORLD WAY 120   \n",
       "2     11788       STREET CHURROS      6801 HOLLYWOOD BLVD 253   \n",
       "3     11789    TRINITI ECHO PARK           1814 W SUNSET BLVD   \n",
       "4     11790               POLLEN           2100 ECHO PARK AVE   \n",
       "...     ...                  ...                          ...   \n",
       "9646  21432      HALL OF JUSTICE             217 W TEMPLE AVE   \n",
       "9647  21433          FIN-MELROSE             5750 MELROSE AVE   \n",
       "9648  21434          JUICY WINGZ          6741 HOLLYWOOD BLVD   \n",
       "9649  21435      MEDIDATE COFFEE      548 S SPRING ST STE 100   \n",
       "9650  21436         CAFE SPROUTS  1300 S SAN PEDRO ST STE 111   \n",
       "\n",
       "                          chain object_type  number             street_name  \n",
       "0     No pertenece a una cadena        Cafe      26       N EAGLE ROCK BLVD  \n",
       "1     No pertenece a una cadena  Restaurant       9           WORLD WAY 120  \n",
       "2     No pertenece a una cadena   Fast Food      20      HOLLYWOOD BLVD 253  \n",
       "3     No pertenece a una cadena  Restaurant      22           W SUNSET BLVD  \n",
       "4     No pertenece a una cadena  Restaurant      20           ECHO PARK AVE  \n",
       "...                         ...         ...     ...                     ...  \n",
       "9646  No pertenece a una cadena  Restaurant     122            W TEMPLE AVE  \n",
       "9647  No pertenece a una cadena  Restaurant      93             MELROSE AVE  \n",
       "9648     Pertenece a una cadena   Fast Food      15          HOLLYWOOD BLVD  \n",
       "9649  No pertenece a una cadena        Cafe       6     S SPRING ST STE 100  \n",
       "9650     Pertenece a una cadena  Restaurant      19  S SAN PEDRO ST STE 111  \n",
       "\n",
       "[9651 rows x 7 columns]"
      ]
     },
     "execution_count": 24,
     "metadata": {},
     "output_type": "execute_result"
    }
   ],
   "source": [
    "rest_data"
   ]
  },
  {
   "cell_type": "markdown",
   "metadata": {},
   "source": [
    "### Traza un gráfico de las diez mejores calles por número de restaurantes."
   ]
  },
  {
   "cell_type": "code",
   "execution_count": 25,
   "metadata": {},
   "outputs": [
    {
     "data": {
      "image/png": "[encoded data removed]",
      "text/plain": [
       "<Figure size 640x480 with 1 Axes>"
      ]
     },
     "metadata": {},
     "output_type": "display_data"
    }
   ],
   "source": [
    "#Creamos una variable con las 10 calles con mas restaurantes\n",
    "restaurant_filtered=rest_data[rest_data['object_type']=='Restaurant']\n",
    "top_10_streets = restaurant_filtered['street_name'].value_counts().head(10).reset_index()\n",
    "\n",
    "top_10_streets.columns = ['street_name', 'No_restaurants']   \n",
    "#Creamos un gráfico de barras.\n",
    "ax = sns.barplot(\n",
    "    x='street_name',\n",
    "    y='No_restaurants',\n",
    "    data=top_10_streets,\n",
    "\n",
    ")\n",
    "plt.title('Top 10 de las calles con mas restaurantes')\n",
    "for p in ax.patches:\n",
    "    x = p.get_x() + p.get_width() / 2\n",
    "    y = p.get_height()\n",
    "    ax.text(x, y, f'{y:.0f}', ha='center', va='bottom')  # Ajuste va='bottom' para colocar el texto encima de las barras\n",
    "\n",
    "plt.xticks(rotation=45, ha='right')\n",
    "plt.show()"
   ]
  },
  {
   "cell_type": "markdown",
   "metadata": {},
   "source": [
    "En el caso de Pico blvd y Sunset Blvd casi tienen el doble de restaurantes que el resto de calles del top, por lo que no serian buena opción para colocar un establecimiento en estas dos calles que estan muy saturadas.\n",
    "Por otro lado, se podria usar estas calles como punto de partida para encontrar calles aledañas para ubicar nuestro establecimiento, reduciendo la competencia en la misma calle."
   ]
  },
  {
   "cell_type": "markdown",
   "metadata": {},
   "source": [
    "### Encuentra el número de calles que solo tienen un restaurante."
   ]
  },
  {
   "cell_type": "code",
   "execution_count": 26,
   "metadata": {},
   "outputs": [
    {
     "name": "stdout",
     "output_type": "stream",
     "text": [
      "                  street_name  num_restaurant\n",
      "514             N CENTRAL AVE               1\n",
      "515   W CESAR CHAVEZ AVE #107               1\n",
      "516             W 3RD ST #312               1\n",
      "517      S WESTERN AVE STE #C               1\n",
      "518              S BROADWAY C               1\n",
      "...                       ...             ...\n",
      "2481               W 6TH ST B               1\n",
      "2482    SANTA MONICA BLVD PC1               1\n",
      "2483  S FIGUEROA ST STE #418B               1\n",
      "2484      1/2 N HILLHURST AVE               1\n",
      "2485            W 9TH ST #108               1\n",
      "\n",
      "[1972 rows x 2 columns]\n"
     ]
    }
   ],
   "source": [
    "#Se crea un filtro que devuelva solo las calles que tienen un restaurante.\n",
    "only_one_restaurant=restaurant_filtered['street_name'].value_counts().reset_index()\n",
    "only_one_restaurant.columns=['street_name','num_restaurant']\n",
    "only_one_restaurant=only_one_restaurant[only_one_restaurant['num_restaurant']==1]\n",
    "total_streets = only_one_restaurant.sum()\n",
    "print(only_one_restaurant)\n"
   ]
  },
  {
   "cell_type": "code",
   "execution_count": 27,
   "metadata": {},
   "outputs": [
    {
     "name": "stdout",
     "output_type": "stream",
     "text": [
      "El número de calles con un restaurante suman un total de 1972 calles.\n"
     ]
    }
   ],
   "source": [
    "print(f'El número de calles con un restaurante suman un total de {only_one_restaurant[\"num_restaurant\"].sum()} calles.')"
   ]
  },
  {
   "cell_type": "markdown",
   "metadata": {},
   "source": [
    "Podriamos ubicar nuestro establecimiento en alguna de estas calles, pero antes deberiamos filtrar las calles a las cuales esten mas cerca del centro de la ciudad, o cerca de puntos de interes, para captar clientes, ya que la competencia en estas calles sera muy baja y eso podría ser una ventaja competitiva."
   ]
  },
  {
   "cell_type": "markdown",
   "metadata": {},
   "source": [
    "### Para las calles con muchos restaurantes, analiza la distribución del número de asientos. ¿Qué tendencias puedes ver?"
   ]
  },
  {
   "cell_type": "code",
   "execution_count": 28,
   "metadata": {},
   "outputs": [],
   "source": [
    "#recrea un filtro apartir de las calles que se encuentran en el top10 de restaurantes.\n",
    "pop_restaurant = restaurant_filtered[restaurant_filtered['street_name'].isin(top_10_streets['street_name'])]"
   ]
  },
  {
   "cell_type": "code",
   "execution_count": 29,
   "metadata": {},
   "outputs": [
    {
     "data": {
      "image/png": "[encoded data removed]",
      "text/plain": [
       "<Figure size 1200x600 with 1 Axes>"
      ]
     },
     "metadata": {},
     "output_type": "display_data"
    }
   ],
   "source": [
    "#se establece el tamaño del gráfico.\n",
    "plt.figure(figsize=(12, 6))\n",
    "\n",
    "# Gráfico de violín\n",
    "sns.violinplot(\n",
    "    x='street_name',\n",
    "    y='number',\n",
    "    data=pop_restaurant\n",
    ")\n",
    "plt.title('Distribución del Número de Asientos en Calles Populares')\n",
    "plt.xlabel('Calle')\n",
    "plt.ylabel('Número de Asientos')\n",
    "plt.xticks(rotation=45, ha='right')\n",
    "plt.show()"
   ]
  },
  {
   "cell_type": "markdown",
   "metadata": {},
   "source": [
    "Podemos observar que Santa Monica es la calle con mayor número de asientos, esto puede deberse a diversos factores como el transito de las personas, los sitios de interes cercanos y algun otro factor que atraiga más gente por esa zona que el restaurante requiera más asientos."
   ]
  },
  {
   "cell_type": "markdown",
   "metadata": {},
   "source": [
    "## Preparar una presentación"
   ]
  },
  {
   "cell_type": "markdown",
   "metadata": {},
   "source": [
    "Presentation: <https://www.canva.com/design/DAGNSZir8F0/h0JvporFLmYd3ZDM1qihJw/edit?utm_content=DAGNSZir8F0&utm_campaign=designshare&utm_medium=link2&utm_source=sharebutton>"
   ]
  }
 ],
 "metadata": {
  "ExecuteTimeLog": [
   {
    "duration": 14,
    "start_time": "2024-08-06T01:48:48.856Z"
   },
   {
    "duration": 4,
    "start_time": "2024-08-06T01:52:46.202Z"
   },
   {
    "duration": 457,
    "start_time": "2024-08-06T01:52:57.940Z"
   },
   {
    "duration": 4,
    "start_time": "2024-08-06T01:53:23.845Z"
   },
   {
    "duration": 3,
    "start_time": "2024-08-06T01:53:31.461Z"
   },
   {
    "duration": 36,
    "start_time": "2024-08-06T01:53:47.317Z"
   },
   {
    "duration": 12,
    "start_time": "2024-08-06T01:53:48.317Z"
   },
   {
    "duration": 17,
    "start_time": "2024-08-06T01:54:03.352Z"
   },
   {
    "duration": 136,
    "start_time": "2024-08-06T02:05:03.049Z"
   },
   {
    "duration": 13,
    "start_time": "2024-08-06T02:05:10.666Z"
   },
   {
    "duration": 7,
    "start_time": "2024-08-06T02:06:22.143Z"
   },
   {
    "duration": 4,
    "start_time": "2024-08-06T14:44:48.544Z"
   },
   {
    "duration": 3,
    "start_time": "2024-08-06T14:45:23.653Z"
   },
   {
    "duration": 319,
    "start_time": "2024-08-06T14:55:33.888Z"
   },
   {
    "duration": 20,
    "start_time": "2024-08-06T14:55:37.731Z"
   },
   {
    "duration": 425,
    "start_time": "2024-08-06T14:55:46.474Z"
   },
   {
    "duration": 36,
    "start_time": "2024-08-06T14:55:46.906Z"
   },
   {
    "duration": 12,
    "start_time": "2024-08-06T14:55:46.946Z"
   },
   {
    "duration": 22,
    "start_time": "2024-08-06T14:55:46.962Z"
   },
   {
    "duration": 29,
    "start_time": "2024-08-06T14:55:46.988Z"
   },
   {
    "duration": 7,
    "start_time": "2024-08-06T14:55:47.022Z"
   },
   {
    "duration": 16,
    "start_time": "2024-08-06T14:55:47.032Z"
   },
   {
    "duration": 16,
    "start_time": "2024-08-06T14:56:54.591Z"
   },
   {
    "duration": 8,
    "start_time": "2024-08-06T14:57:03.974Z"
   },
   {
    "duration": 6,
    "start_time": "2024-08-06T14:58:09.468Z"
   },
   {
    "duration": 7,
    "start_time": "2024-08-06T14:58:18.393Z"
   },
   {
    "duration": 974,
    "start_time": "2024-08-06T15:01:30.178Z"
   },
   {
    "duration": 73,
    "start_time": "2024-08-06T15:01:45.838Z"
   },
   {
    "duration": 78,
    "start_time": "2024-08-06T15:02:35.776Z"
   },
   {
    "duration": 76,
    "start_time": "2024-08-06T15:02:48.965Z"
   },
   {
    "duration": 77,
    "start_time": "2024-08-06T15:03:26.159Z"
   },
   {
    "duration": 7,
    "start_time": "2024-08-06T15:03:47.605Z"
   },
   {
    "duration": 472,
    "start_time": "2024-08-06T15:04:00.504Z"
   },
   {
    "duration": 31,
    "start_time": "2024-08-06T15:04:00.980Z"
   },
   {
    "duration": 12,
    "start_time": "2024-08-06T15:04:01.014Z"
   },
   {
    "duration": 17,
    "start_time": "2024-08-06T15:04:01.030Z"
   },
   {
    "duration": 12,
    "start_time": "2024-08-06T15:04:01.051Z"
   },
   {
    "duration": 6,
    "start_time": "2024-08-06T15:04:01.106Z"
   },
   {
    "duration": 5,
    "start_time": "2024-08-06T15:04:01.116Z"
   },
   {
    "duration": 9,
    "start_time": "2024-08-06T15:04:01.124Z"
   },
   {
    "duration": 7,
    "start_time": "2024-08-06T15:04:01.136Z"
   },
   {
    "duration": 1014,
    "start_time": "2024-08-06T15:04:01.146Z"
   },
   {
    "duration": 439,
    "start_time": "2024-08-06T15:04:10.740Z"
   },
   {
    "duration": 32,
    "start_time": "2024-08-06T15:04:11.182Z"
   },
   {
    "duration": 11,
    "start_time": "2024-08-06T15:04:11.217Z"
   },
   {
    "duration": 17,
    "start_time": "2024-08-06T15:04:11.233Z"
   },
   {
    "duration": 11,
    "start_time": "2024-08-06T15:04:11.254Z"
   },
   {
    "duration": 7,
    "start_time": "2024-08-06T15:04:11.306Z"
   },
   {
    "duration": 5,
    "start_time": "2024-08-06T15:04:11.316Z"
   },
   {
    "duration": 12,
    "start_time": "2024-08-06T15:04:11.325Z"
   },
   {
    "duration": 14,
    "start_time": "2024-08-06T15:04:11.340Z"
   },
   {
    "duration": 50,
    "start_time": "2024-08-06T15:04:11.358Z"
   },
   {
    "duration": 9,
    "start_time": "2024-08-06T15:04:23.610Z"
   },
   {
    "duration": 4512,
    "start_time": "2024-08-06T15:07:55.610Z"
   },
   {
    "duration": 4895,
    "start_time": "2024-08-06T17:01:39.934Z"
   },
   {
    "duration": 41,
    "start_time": "2024-08-06T17:01:44.835Z"
   },
   {
    "duration": 12,
    "start_time": "2024-08-06T17:01:44.879Z"
   },
   {
    "duration": 16,
    "start_time": "2024-08-06T17:01:44.896Z"
   },
   {
    "duration": 21,
    "start_time": "2024-08-06T17:01:44.915Z"
   },
   {
    "duration": 8,
    "start_time": "2024-08-06T17:01:44.940Z"
   },
   {
    "duration": 4,
    "start_time": "2024-08-06T17:01:44.951Z"
   },
   {
    "duration": 10,
    "start_time": "2024-08-06T17:01:44.958Z"
   },
   {
    "duration": 64,
    "start_time": "2024-08-06T17:01:44.971Z"
   },
   {
    "duration": 14,
    "start_time": "2024-08-06T17:01:45.040Z"
   },
   {
    "duration": 897,
    "start_time": "2024-08-06T17:01:45.057Z"
   },
   {
    "duration": 7,
    "start_time": "2024-08-06T17:03:00.267Z"
   },
   {
    "duration": 7,
    "start_time": "2024-08-06T17:03:07.160Z"
   },
   {
    "duration": 111,
    "start_time": "2024-08-06T17:03:25.965Z"
   },
   {
    "duration": 8,
    "start_time": "2024-08-06T17:06:11.832Z"
   },
   {
    "duration": 761,
    "start_time": "2024-08-06T17:06:26.454Z"
   },
   {
    "duration": 12,
    "start_time": "2024-08-06T17:06:38.271Z"
   },
   {
    "duration": 29,
    "start_time": "2024-08-06T17:06:57.148Z"
   },
   {
    "duration": 69,
    "start_time": "2024-08-06T17:07:15.143Z"
   },
   {
    "duration": 13,
    "start_time": "2024-08-06T17:07:22.519Z"
   },
   {
    "duration": 18,
    "start_time": "2024-08-06T17:10:59.391Z"
   },
   {
    "duration": 19,
    "start_time": "2024-08-06T17:11:08.501Z"
   },
   {
    "duration": 32,
    "start_time": "2024-08-06T17:11:40.364Z"
   },
   {
    "duration": 21,
    "start_time": "2024-08-06T17:11:46.372Z"
   },
   {
    "duration": 6,
    "start_time": "2024-08-06T17:12:45.061Z"
   },
   {
    "duration": 11,
    "start_time": "2024-08-06T17:12:50.718Z"
   },
   {
    "duration": 213,
    "start_time": "2024-08-06T17:16:20.852Z"
   },
   {
    "duration": 449,
    "start_time": "2024-08-06T17:17:27.159Z"
   },
   {
    "duration": 202,
    "start_time": "2024-08-06T17:17:47.914Z"
   },
   {
    "duration": 200,
    "start_time": "2024-08-06T17:18:12.499Z"
   },
   {
    "duration": 196,
    "start_time": "2024-08-06T17:20:42.569Z"
   },
   {
    "duration": 140,
    "start_time": "2024-08-06T17:24:01.593Z"
   },
   {
    "duration": 142,
    "start_time": "2024-08-06T17:24:06.337Z"
   },
   {
    "duration": 169,
    "start_time": "2024-08-06T17:24:17.033Z"
   },
   {
    "duration": 160,
    "start_time": "2024-08-06T17:24:33.347Z"
   },
   {
    "duration": 203,
    "start_time": "2024-08-06T17:24:56.217Z"
   },
   {
    "duration": 195,
    "start_time": "2024-08-06T17:25:58.595Z"
   },
   {
    "duration": 202,
    "start_time": "2024-08-06T17:26:07.828Z"
   },
   {
    "duration": 307,
    "start_time": "2024-08-06T17:26:16.780Z"
   },
   {
    "duration": 191,
    "start_time": "2024-08-06T17:27:36.821Z"
   },
   {
    "duration": 75,
    "start_time": "2024-08-06T17:33:37.652Z"
   },
   {
    "duration": 79,
    "start_time": "2024-08-06T17:33:41.058Z"
   },
   {
    "duration": 77,
    "start_time": "2024-08-06T17:33:51.005Z"
   },
   {
    "duration": 9,
    "start_time": "2024-08-06T17:33:55.025Z"
   },
   {
    "duration": 1340,
    "start_time": "2024-08-06T17:34:11.127Z"
   },
   {
    "duration": 25,
    "start_time": "2024-08-06T17:34:12.470Z"
   },
   {
    "duration": 12,
    "start_time": "2024-08-06T17:34:12.498Z"
   },
   {
    "duration": 34,
    "start_time": "2024-08-06T17:34:12.513Z"
   },
   {
    "duration": 16,
    "start_time": "2024-08-06T17:34:12.551Z"
   },
   {
    "duration": 9,
    "start_time": "2024-08-06T17:34:12.570Z"
   },
   {
    "duration": 51,
    "start_time": "2024-08-06T17:34:12.582Z"
   },
   {
    "duration": 4,
    "start_time": "2024-08-06T17:34:12.635Z"
   },
   {
    "duration": 13,
    "start_time": "2024-08-06T17:34:12.642Z"
   },
   {
    "duration": 12,
    "start_time": "2024-08-06T17:34:12.661Z"
   },
   {
    "duration": 8,
    "start_time": "2024-08-06T17:34:12.676Z"
   },
   {
    "duration": 23,
    "start_time": "2024-08-06T17:34:12.731Z"
   },
   {
    "duration": 249,
    "start_time": "2024-08-06T17:34:12.756Z"
   },
   {
    "duration": 7,
    "start_time": "2024-08-06T17:44:09.836Z"
   },
   {
    "duration": 6,
    "start_time": "2024-08-06T17:44:17.539Z"
   },
   {
    "duration": 9,
    "start_time": "2024-08-06T17:44:57.939Z"
   },
   {
    "duration": 7,
    "start_time": "2024-08-06T17:45:06.057Z"
   },
   {
    "duration": 7,
    "start_time": "2024-08-06T17:45:12.556Z"
   },
   {
    "duration": 7,
    "start_time": "2024-08-06T17:50:19.762Z"
   },
   {
    "duration": 7,
    "start_time": "2024-08-06T17:50:25.805Z"
   },
   {
    "duration": 6,
    "start_time": "2024-08-06T17:51:04.442Z"
   },
   {
    "duration": 7,
    "start_time": "2024-08-06T17:51:39.659Z"
   },
   {
    "duration": 7,
    "start_time": "2024-08-06T17:51:49.170Z"
   },
   {
    "duration": 6,
    "start_time": "2024-08-06T17:52:17.368Z"
   },
   {
    "duration": 6,
    "start_time": "2024-08-06T17:52:22.114Z"
   },
   {
    "duration": 7,
    "start_time": "2024-08-06T17:52:25.239Z"
   },
   {
    "duration": 7,
    "start_time": "2024-08-06T17:52:34.389Z"
   },
   {
    "duration": 7,
    "start_time": "2024-08-06T17:52:38.296Z"
   },
   {
    "duration": 6,
    "start_time": "2024-08-06T17:52:41.508Z"
   },
   {
    "duration": 431,
    "start_time": "2024-08-06T17:52:51.519Z"
   },
   {
    "duration": 428,
    "start_time": "2024-08-06T17:53:01.174Z"
   },
   {
    "duration": 378,
    "start_time": "2024-08-06T17:53:27.305Z"
   },
   {
    "duration": 339,
    "start_time": "2024-08-06T17:53:38.598Z"
   },
   {
    "duration": 162,
    "start_time": "2024-08-06T17:53:47.413Z"
   },
   {
    "duration": 313,
    "start_time": "2024-08-06T17:54:19.688Z"
   },
   {
    "duration": 370,
    "start_time": "2024-08-06T17:54:34.317Z"
   },
   {
    "duration": 360,
    "start_time": "2024-08-06T17:54:47.309Z"
   },
   {
    "duration": 359,
    "start_time": "2024-08-06T17:54:52.717Z"
   },
   {
    "duration": 470,
    "start_time": "2024-08-06T18:00:14.774Z"
   },
   {
    "duration": 4,
    "start_time": "2024-08-06T18:00:21.627Z"
   },
   {
    "duration": 23,
    "start_time": "2024-08-06T18:01:47.484Z"
   },
   {
    "duration": 1271,
    "start_time": "2024-08-06T18:02:00.320Z"
   },
   {
    "duration": 24,
    "start_time": "2024-08-06T18:02:01.595Z"
   },
   {
    "duration": 13,
    "start_time": "2024-08-06T18:02:01.629Z"
   },
   {
    "duration": 14,
    "start_time": "2024-08-06T18:02:01.645Z"
   },
   {
    "duration": 17,
    "start_time": "2024-08-06T18:02:01.663Z"
   },
   {
    "duration": 49,
    "start_time": "2024-08-06T18:02:01.683Z"
   },
   {
    "duration": 6,
    "start_time": "2024-08-06T18:02:01.735Z"
   },
   {
    "duration": 8,
    "start_time": "2024-08-06T18:02:01.744Z"
   },
   {
    "duration": 15,
    "start_time": "2024-08-06T18:02:01.755Z"
   },
   {
    "duration": 18,
    "start_time": "2024-08-06T18:02:01.774Z"
   },
   {
    "duration": 41,
    "start_time": "2024-08-06T18:02:01.795Z"
   },
   {
    "duration": 23,
    "start_time": "2024-08-06T18:02:01.839Z"
   },
   {
    "duration": 421,
    "start_time": "2024-08-06T18:02:01.865Z"
   },
   {
    "duration": 486,
    "start_time": "2024-08-06T18:02:02.292Z"
   },
   {
    "duration": 0,
    "start_time": "2024-08-06T18:02:02.780Z"
   },
   {
    "duration": 0,
    "start_time": "2024-08-06T18:02:02.783Z"
   },
   {
    "duration": 22,
    "start_time": "2024-08-06T18:10:33.982Z"
   },
   {
    "duration": 6,
    "start_time": "2024-08-06T18:10:36.763Z"
   },
   {
    "duration": 923,
    "start_time": "2024-08-06T18:12:08.292Z"
   },
   {
    "duration": 29,
    "start_time": "2024-08-06T18:15:08.955Z"
   },
   {
    "duration": 28,
    "start_time": "2024-08-06T18:15:19.809Z"
   },
   {
    "duration": 38,
    "start_time": "2024-08-06T18:15:37.134Z"
   },
   {
    "duration": 48,
    "start_time": "2024-08-06T18:15:42.401Z"
   },
   {
    "duration": 38,
    "start_time": "2024-08-06T18:15:52.112Z"
   },
   {
    "duration": 20,
    "start_time": "2024-08-06T18:20:01.826Z"
   },
   {
    "duration": 19,
    "start_time": "2024-08-06T18:20:20.094Z"
   },
   {
    "duration": 22,
    "start_time": "2024-08-06T18:24:05.211Z"
   },
   {
    "duration": 32,
    "start_time": "2024-08-06T18:28:12.624Z"
   },
   {
    "duration": 171,
    "start_time": "2024-08-06T18:28:18.134Z"
   },
   {
    "duration": 27,
    "start_time": "2024-08-06T18:28:30.377Z"
   },
   {
    "duration": 27,
    "start_time": "2024-08-06T18:28:34.460Z"
   },
   {
    "duration": 29,
    "start_time": "2024-08-06T18:29:39.230Z"
   },
   {
    "duration": 28,
    "start_time": "2024-08-06T18:29:42.854Z"
   },
   {
    "duration": 29,
    "start_time": "2024-08-06T18:29:55.478Z"
   },
   {
    "duration": 122,
    "start_time": "2024-08-06T18:30:12.653Z"
   },
   {
    "duration": 117,
    "start_time": "2024-08-06T18:30:19.948Z"
   },
   {
    "duration": 115,
    "start_time": "2024-08-06T18:30:44.804Z"
   },
   {
    "duration": 129,
    "start_time": "2024-08-06T18:31:37.303Z"
   },
   {
    "duration": 141,
    "start_time": "2024-08-06T18:31:54.124Z"
   },
   {
    "duration": 6,
    "start_time": "2024-08-06T18:36:21.749Z"
   },
   {
    "duration": 7,
    "start_time": "2024-08-06T18:37:03.222Z"
   },
   {
    "duration": 28,
    "start_time": "2024-08-06T18:37:10.116Z"
   },
   {
    "duration": 22,
    "start_time": "2024-08-06T18:39:24.367Z"
   },
   {
    "duration": 21,
    "start_time": "2024-08-06T18:42:36.620Z"
   },
   {
    "duration": 132,
    "start_time": "2024-08-06T18:42:49.259Z"
   },
   {
    "duration": 245,
    "start_time": "2024-08-06T18:43:24.389Z"
   },
   {
    "duration": 258,
    "start_time": "2024-08-06T18:44:36.551Z"
   },
   {
    "duration": 16,
    "start_time": "2024-08-06T18:48:20.192Z"
   },
   {
    "duration": 8,
    "start_time": "2024-08-06T18:49:30.003Z"
   },
   {
    "duration": 25,
    "start_time": "2024-08-06T18:49:34.386Z"
   },
   {
    "duration": 50,
    "start_time": "2024-08-06T18:57:13.880Z"
   },
   {
    "duration": 1012,
    "start_time": "2024-08-06T18:58:05.886Z"
   },
   {
    "duration": 808,
    "start_time": "2024-08-06T18:58:15.944Z"
   },
   {
    "duration": 6,
    "start_time": "2024-08-06T18:59:30.636Z"
   },
   {
    "duration": 1030,
    "start_time": "2024-08-06T18:59:36.385Z"
   },
   {
    "duration": 12,
    "start_time": "2024-08-06T18:59:59.032Z"
   },
   {
    "duration": 846,
    "start_time": "2024-08-06T19:00:39.938Z"
   },
   {
    "duration": 813,
    "start_time": "2024-08-06T19:00:58.226Z"
   },
   {
    "duration": 1962,
    "start_time": "2024-08-06T19:01:53.088Z"
   },
   {
    "duration": 807,
    "start_time": "2024-08-06T19:02:40.880Z"
   },
   {
    "duration": 6,
    "start_time": "2024-08-06T19:04:41.420Z"
   },
   {
    "duration": 10,
    "start_time": "2024-08-06T19:04:47.864Z"
   },
   {
    "duration": 1215,
    "start_time": "2024-08-06T19:05:07.569Z"
   },
   {
    "duration": 24,
    "start_time": "2024-08-06T19:05:08.788Z"
   },
   {
    "duration": 22,
    "start_time": "2024-08-06T19:05:08.815Z"
   },
   {
    "duration": 16,
    "start_time": "2024-08-06T19:05:08.840Z"
   },
   {
    "duration": 19,
    "start_time": "2024-08-06T19:05:08.861Z"
   },
   {
    "duration": 9,
    "start_time": "2024-08-06T19:05:08.882Z"
   },
   {
    "duration": 9,
    "start_time": "2024-08-06T19:05:08.931Z"
   },
   {
    "duration": 4,
    "start_time": "2024-08-06T19:05:08.944Z"
   },
   {
    "duration": 11,
    "start_time": "2024-08-06T19:05:08.951Z"
   },
   {
    "duration": 14,
    "start_time": "2024-08-06T19:05:08.965Z"
   },
   {
    "duration": 55,
    "start_time": "2024-08-06T19:05:08.982Z"
   },
   {
    "duration": 8,
    "start_time": "2024-08-06T19:05:09.040Z"
   },
   {
    "duration": 22,
    "start_time": "2024-08-06T19:05:09.051Z"
   },
   {
    "duration": 416,
    "start_time": "2024-08-06T19:05:09.079Z"
   },
   {
    "duration": 47,
    "start_time": "2024-08-06T19:05:09.498Z"
   },
   {
    "duration": 7,
    "start_time": "2024-08-06T19:05:09.550Z"
   },
   {
    "duration": 20,
    "start_time": "2024-08-06T19:05:09.560Z"
   },
   {
    "duration": 282,
    "start_time": "2024-08-06T19:05:09.584Z"
   },
   {
    "duration": 24,
    "start_time": "2024-08-06T19:05:09.870Z"
   },
   {
    "duration": 36,
    "start_time": "2024-08-06T19:05:09.896Z"
   },
   {
    "duration": 898,
    "start_time": "2024-08-06T19:05:09.935Z"
   },
   {
    "duration": 25,
    "start_time": "2024-08-06T19:09:09.696Z"
   },
   {
    "duration": 7,
    "start_time": "2024-08-06T19:09:20.070Z"
   },
   {
    "duration": 5,
    "start_time": "2024-08-06T19:09:35.107Z"
   },
   {
    "duration": 25,
    "start_time": "2024-08-06T19:09:40.038Z"
   },
   {
    "duration": 25,
    "start_time": "2024-08-06T19:10:21.693Z"
   },
   {
    "duration": 11,
    "start_time": "2024-08-06T19:12:40.346Z"
   },
   {
    "duration": 12,
    "start_time": "2024-08-06T19:13:06.934Z"
   },
   {
    "duration": 11,
    "start_time": "2024-08-06T19:13:19.821Z"
   },
   {
    "duration": 6,
    "start_time": "2024-08-06T19:18:00.844Z"
   },
   {
    "duration": 395,
    "start_time": "2024-08-06T19:33:00.331Z"
   },
   {
    "duration": 15,
    "start_time": "2024-08-06T19:34:55.946Z"
   },
   {
    "duration": 15,
    "start_time": "2024-08-06T19:35:06.740Z"
   },
   {
    "duration": 16,
    "start_time": "2024-08-06T19:36:28.878Z"
   },
   {
    "duration": 16,
    "start_time": "2024-08-06T19:37:17.795Z"
   },
   {
    "duration": 19,
    "start_time": "2024-08-06T19:42:06.329Z"
   },
   {
    "duration": 7,
    "start_time": "2024-08-06T19:42:41.368Z"
   },
   {
    "duration": 197,
    "start_time": "2024-08-06T19:42:55.808Z"
   },
   {
    "duration": 1300,
    "start_time": "2024-08-06T19:47:23.896Z"
   },
   {
    "duration": 274,
    "start_time": "2024-08-06T19:47:44.120Z"
   },
   {
    "duration": 369,
    "start_time": "2024-08-06T19:47:50.737Z"
   },
   {
    "duration": 273,
    "start_time": "2024-08-06T19:48:03.122Z"
   },
   {
    "duration": 187,
    "start_time": "2024-08-06T19:48:10.891Z"
   },
   {
    "duration": 18,
    "start_time": "2024-08-06T19:48:23.794Z"
   },
   {
    "duration": 6,
    "start_time": "2024-08-06T19:48:48.725Z"
   },
   {
    "duration": 52,
    "start_time": "2024-08-06T19:48:53.408Z"
   },
   {
    "duration": 26,
    "start_time": "2024-08-06T20:00:10.399Z"
   },
   {
    "duration": 332,
    "start_time": "2024-08-06T20:00:22.041Z"
   },
   {
    "duration": 17,
    "start_time": "2024-08-06T20:00:45.413Z"
   },
   {
    "duration": 276,
    "start_time": "2024-08-06T20:00:47.914Z"
   },
   {
    "duration": 4936,
    "start_time": "2024-08-06T22:42:51.972Z"
   },
   {
    "duration": 40,
    "start_time": "2024-08-06T22:42:56.912Z"
   },
   {
    "duration": 13,
    "start_time": "2024-08-06T22:42:56.955Z"
   },
   {
    "duration": 16,
    "start_time": "2024-08-06T22:42:56.971Z"
   },
   {
    "duration": 50,
    "start_time": "2024-08-06T22:42:56.992Z"
   },
   {
    "duration": 8,
    "start_time": "2024-08-06T22:42:57.045Z"
   },
   {
    "duration": 8,
    "start_time": "2024-08-06T22:42:57.056Z"
   },
   {
    "duration": 3,
    "start_time": "2024-08-06T22:42:57.067Z"
   },
   {
    "duration": 10,
    "start_time": "2024-08-06T22:42:57.074Z"
   },
   {
    "duration": 57,
    "start_time": "2024-08-06T22:42:57.087Z"
   },
   {
    "duration": 15,
    "start_time": "2024-08-06T22:42:57.146Z"
   },
   {
    "duration": 8,
    "start_time": "2024-08-06T22:42:57.164Z"
   },
   {
    "duration": 64,
    "start_time": "2024-08-06T22:42:57.175Z"
   },
   {
    "duration": 386,
    "start_time": "2024-08-06T22:42:57.244Z"
   },
   {
    "duration": 39,
    "start_time": "2024-08-06T22:42:57.635Z"
   },
   {
    "duration": 6,
    "start_time": "2024-08-06T22:42:57.676Z"
   },
   {
    "duration": 51,
    "start_time": "2024-08-06T22:42:57.685Z"
   },
   {
    "duration": 272,
    "start_time": "2024-08-06T22:42:57.742Z"
   },
   {
    "duration": 18,
    "start_time": "2024-08-06T22:42:58.017Z"
   },
   {
    "duration": 14,
    "start_time": "2024-08-06T22:42:58.039Z"
   },
   {
    "duration": 19,
    "start_time": "2024-08-06T22:42:58.056Z"
   },
   {
    "duration": 320,
    "start_time": "2024-08-06T22:42:58.078Z"
   },
   {
    "duration": 821,
    "start_time": "2024-08-06T22:42:58.401Z"
   },
   {
    "duration": 458,
    "start_time": "2024-08-06T22:43:15.187Z"
   },
   {
    "duration": 5,
    "start_time": "2024-08-06T22:43:18.815Z"
   },
   {
    "duration": 24,
    "start_time": "2024-08-06T22:46:04.190Z"
   },
   {
    "duration": 45,
    "start_time": "2024-08-06T22:46:09.606Z"
   },
   {
    "duration": 49,
    "start_time": "2024-08-06T22:46:31.796Z"
   },
   {
    "duration": 21,
    "start_time": "2024-08-06T22:47:00.391Z"
   },
   {
    "duration": 28,
    "start_time": "2024-08-06T22:51:55.857Z"
   },
   {
    "duration": 37,
    "start_time": "2024-08-06T22:53:18.895Z"
   },
   {
    "duration": 10,
    "start_time": "2024-08-06T22:54:02.973Z"
   },
   {
    "duration": 7,
    "start_time": "2024-08-06T22:54:53.373Z"
   },
   {
    "duration": 20,
    "start_time": "2024-08-06T22:56:34.157Z"
   },
   {
    "duration": 32,
    "start_time": "2024-08-06T23:00:56.788Z"
   },
   {
    "duration": 6,
    "start_time": "2024-08-06T23:01:00.108Z"
   },
   {
    "duration": 309,
    "start_time": "2024-08-07T03:20:01.030Z"
   },
   {
    "duration": 4864,
    "start_time": "2024-08-07T03:20:07.562Z"
   },
   {
    "duration": 42,
    "start_time": "2024-08-07T03:20:12.430Z"
   },
   {
    "duration": 12,
    "start_time": "2024-08-07T03:20:12.475Z"
   },
   {
    "duration": 24,
    "start_time": "2024-08-07T03:20:12.490Z"
   },
   {
    "duration": 16,
    "start_time": "2024-08-07T03:20:12.519Z"
   },
   {
    "duration": 9,
    "start_time": "2024-08-07T03:20:12.537Z"
   },
   {
    "duration": 7,
    "start_time": "2024-08-07T03:20:12.549Z"
   },
   {
    "duration": 4,
    "start_time": "2024-08-07T03:20:12.559Z"
   },
   {
    "duration": 11,
    "start_time": "2024-08-07T03:20:12.613Z"
   },
   {
    "duration": 13,
    "start_time": "2024-08-07T03:20:12.627Z"
   },
   {
    "duration": 16,
    "start_time": "2024-08-07T03:20:12.643Z"
   },
   {
    "duration": 49,
    "start_time": "2024-08-07T03:20:12.663Z"
   },
   {
    "duration": 21,
    "start_time": "2024-08-07T03:20:12.716Z"
   },
   {
    "duration": 444,
    "start_time": "2024-08-07T03:20:12.744Z"
   },
   {
    "duration": 46,
    "start_time": "2024-08-07T03:20:13.191Z"
   },
   {
    "duration": 6,
    "start_time": "2024-08-07T03:20:13.240Z"
   },
   {
    "duration": 21,
    "start_time": "2024-08-07T03:20:13.249Z"
   },
   {
    "duration": 312,
    "start_time": "2024-08-07T03:20:13.274Z"
   },
   {
    "duration": 23,
    "start_time": "2024-08-07T03:20:13.589Z"
   },
   {
    "duration": 16,
    "start_time": "2024-08-07T03:20:13.615Z"
   },
   {
    "duration": 18,
    "start_time": "2024-08-07T03:20:13.634Z"
   },
   {
    "duration": 327,
    "start_time": "2024-08-07T03:20:13.655Z"
   },
   {
    "duration": 9,
    "start_time": "2024-08-07T03:20:13.985Z"
   },
   {
    "duration": 0,
    "start_time": "2024-08-07T03:20:13.997Z"
   },
   {
    "duration": 0,
    "start_time": "2024-08-07T03:20:14.013Z"
   },
   {
    "duration": 0,
    "start_time": "2024-08-07T03:20:14.015Z"
   },
   {
    "duration": 0,
    "start_time": "2024-08-07T03:20:14.019Z"
   },
   {
    "duration": 0,
    "start_time": "2024-08-07T03:20:14.021Z"
   },
   {
    "duration": 0,
    "start_time": "2024-08-07T03:20:14.025Z"
   },
   {
    "duration": 12,
    "start_time": "2024-08-07T03:20:25.577Z"
   },
   {
    "duration": 8,
    "start_time": "2024-08-07T03:20:28.665Z"
   },
   {
    "duration": 21,
    "start_time": "2024-08-07T03:20:29.924Z"
   },
   {
    "duration": 41,
    "start_time": "2024-08-07T03:29:15.832Z"
   },
   {
    "duration": 12,
    "start_time": "2024-08-07T03:29:38.742Z"
   },
   {
    "duration": 9,
    "start_time": "2024-08-07T03:29:46.853Z"
   },
   {
    "duration": 16,
    "start_time": "2024-08-07T03:30:21.896Z"
   },
   {
    "duration": 313,
    "start_time": "2024-08-07T13:49:07.576Z"
   },
   {
    "duration": 4949,
    "start_time": "2024-08-07T13:49:16.595Z"
   },
   {
    "duration": 30,
    "start_time": "2024-08-07T13:49:21.548Z"
   },
   {
    "duration": 13,
    "start_time": "2024-08-07T13:49:21.581Z"
   },
   {
    "duration": 35,
    "start_time": "2024-08-07T13:49:21.599Z"
   },
   {
    "duration": 19,
    "start_time": "2024-08-07T13:49:21.638Z"
   },
   {
    "duration": 9,
    "start_time": "2024-08-07T13:49:21.659Z"
   },
   {
    "duration": 7,
    "start_time": "2024-08-07T13:49:21.672Z"
   },
   {
    "duration": 51,
    "start_time": "2024-08-07T13:49:21.682Z"
   },
   {
    "duration": 12,
    "start_time": "2024-08-07T13:49:21.736Z"
   },
   {
    "duration": 13,
    "start_time": "2024-08-07T13:49:21.754Z"
   },
   {
    "duration": 16,
    "start_time": "2024-08-07T13:49:21.770Z"
   },
   {
    "duration": 8,
    "start_time": "2024-08-07T13:49:21.832Z"
   },
   {
    "duration": 22,
    "start_time": "2024-08-07T13:49:21.844Z"
   },
   {
    "duration": 422,
    "start_time": "2024-08-07T13:49:21.868Z"
   },
   {
    "duration": 49,
    "start_time": "2024-08-07T13:49:22.293Z"
   },
   {
    "duration": 6,
    "start_time": "2024-08-07T13:49:22.346Z"
   },
   {
    "duration": 20,
    "start_time": "2024-08-07T13:49:22.356Z"
   },
   {
    "duration": 301,
    "start_time": "2024-08-07T13:49:22.379Z"
   },
   {
    "duration": 9,
    "start_time": "2024-08-07T13:49:22.682Z"
   },
   {
    "duration": 42,
    "start_time": "2024-08-07T13:49:22.694Z"
   },
   {
    "duration": 335,
    "start_time": "2024-08-07T13:49:22.739Z"
   },
   {
    "duration": 6,
    "start_time": "2024-08-07T13:49:23.077Z"
   },
   {
    "duration": 0,
    "start_time": "2024-08-07T13:49:23.086Z"
   },
   {
    "duration": 0,
    "start_time": "2024-08-07T13:49:23.089Z"
   },
   {
    "duration": 0,
    "start_time": "2024-08-07T13:49:23.091Z"
   },
   {
    "duration": 0,
    "start_time": "2024-08-07T13:49:23.093Z"
   },
   {
    "duration": 0,
    "start_time": "2024-08-07T13:49:23.097Z"
   },
   {
    "duration": 750,
    "start_time": "2024-08-07T13:50:32.983Z"
   },
   {
    "duration": 317,
    "start_time": "2024-08-07T13:50:40.818Z"
   },
   {
    "duration": 325,
    "start_time": "2024-08-07T13:51:25.311Z"
   },
   {
    "duration": 9,
    "start_time": "2024-08-07T14:04:02.530Z"
   },
   {
    "duration": 360,
    "start_time": "2024-08-07T14:04:07.532Z"
   },
   {
    "duration": 363,
    "start_time": "2024-08-07T14:04:18.905Z"
   },
   {
    "duration": 1204,
    "start_time": "2024-08-07T14:07:09.679Z"
   },
   {
    "duration": 26,
    "start_time": "2024-08-07T14:07:10.887Z"
   },
   {
    "duration": 23,
    "start_time": "2024-08-07T14:07:10.916Z"
   },
   {
    "duration": 14,
    "start_time": "2024-08-07T14:07:10.944Z"
   },
   {
    "duration": 16,
    "start_time": "2024-08-07T14:07:10.961Z"
   },
   {
    "duration": 11,
    "start_time": "2024-08-07T14:07:10.980Z"
   },
   {
    "duration": 7,
    "start_time": "2024-08-07T14:07:11.033Z"
   },
   {
    "duration": 3,
    "start_time": "2024-08-07T14:07:11.044Z"
   },
   {
    "duration": 11,
    "start_time": "2024-08-07T14:07:11.049Z"
   },
   {
    "duration": 12,
    "start_time": "2024-08-07T14:07:11.067Z"
   },
   {
    "duration": 62,
    "start_time": "2024-08-07T14:07:11.083Z"
   },
   {
    "duration": 8,
    "start_time": "2024-08-07T14:07:11.149Z"
   },
   {
    "duration": 21,
    "start_time": "2024-08-07T14:07:11.160Z"
   },
   {
    "duration": 429,
    "start_time": "2024-08-07T14:07:11.183Z"
   },
   {
    "duration": 45,
    "start_time": "2024-08-07T14:07:11.616Z"
   },
   {
    "duration": 6,
    "start_time": "2024-08-07T14:07:11.664Z"
   },
   {
    "duration": 20,
    "start_time": "2024-08-07T14:07:11.673Z"
   },
   {
    "duration": 307,
    "start_time": "2024-08-07T14:07:11.696Z"
   },
   {
    "duration": 7,
    "start_time": "2024-08-07T14:07:12.006Z"
   },
   {
    "duration": 21,
    "start_time": "2024-08-07T14:07:12.032Z"
   },
   {
    "duration": 411,
    "start_time": "2024-08-07T14:07:12.056Z"
   },
   {
    "duration": 4,
    "start_time": "2024-08-07T14:07:12.470Z"
   },
   {
    "duration": 8,
    "start_time": "2024-08-07T14:07:12.476Z"
   },
   {
    "duration": 12,
    "start_time": "2024-08-07T14:07:12.487Z"
   },
   {
    "duration": 21,
    "start_time": "2024-08-07T14:07:12.534Z"
   },
   {
    "duration": 758,
    "start_time": "2024-08-07T14:07:12.557Z"
   },
   {
    "duration": 251,
    "start_time": "2024-08-07T14:07:45.170Z"
   },
   {
    "duration": 276,
    "start_time": "2024-08-07T14:12:10.273Z"
   },
   {
    "duration": 336,
    "start_time": "2024-08-07T14:12:21.092Z"
   },
   {
    "duration": 8,
    "start_time": "2024-08-07T14:14:18.839Z"
   },
   {
    "duration": 293,
    "start_time": "2024-08-07T14:14:28.127Z"
   },
   {
    "duration": 294,
    "start_time": "2024-08-07T14:14:53.832Z"
   },
   {
    "duration": 326,
    "start_time": "2024-08-07T14:15:01.617Z"
   },
   {
    "duration": 286,
    "start_time": "2024-08-07T14:15:16.362Z"
   },
   {
    "duration": 9,
    "start_time": "2024-08-07T14:15:54.431Z"
   },
   {
    "duration": 8,
    "start_time": "2024-08-07T14:22:18.558Z"
   },
   {
    "duration": 90,
    "start_time": "2024-08-07T14:22:46.298Z"
   },
   {
    "duration": 282,
    "start_time": "2024-08-07T14:23:03.671Z"
   },
   {
    "duration": 271,
    "start_time": "2024-08-07T14:24:57.516Z"
   },
   {
    "duration": 24,
    "start_time": "2024-08-07T14:29:38.998Z"
   },
   {
    "duration": 11,
    "start_time": "2024-08-07T14:29:44.854Z"
   },
   {
    "duration": 18,
    "start_time": "2024-08-07T14:30:42.237Z"
   },
   {
    "duration": 18,
    "start_time": "2024-08-07T14:31:35.218Z"
   },
   {
    "duration": 19,
    "start_time": "2024-08-07T14:31:40.083Z"
   },
   {
    "duration": 17,
    "start_time": "2024-08-07T14:31:43.539Z"
   },
   {
    "duration": 18,
    "start_time": "2024-08-07T14:36:34.512Z"
   },
   {
    "duration": 15,
    "start_time": "2024-08-07T14:36:50.714Z"
   },
   {
    "duration": 7,
    "start_time": "2024-08-07T14:37:48.690Z"
   },
   {
    "duration": 19,
    "start_time": "2024-08-07T14:37:55.657Z"
   },
   {
    "duration": 18,
    "start_time": "2024-08-07T14:38:39.114Z"
   },
   {
    "duration": 18,
    "start_time": "2024-08-07T14:39:39.449Z"
   },
   {
    "duration": 21,
    "start_time": "2024-08-07T14:40:22.427Z"
   },
   {
    "duration": 7,
    "start_time": "2024-08-07T14:41:12.658Z"
   },
   {
    "duration": 6,
    "start_time": "2024-08-07T14:41:24.997Z"
   },
   {
    "duration": 21,
    "start_time": "2024-08-07T14:42:02.831Z"
   },
   {
    "duration": 8,
    "start_time": "2024-08-07T14:42:12.802Z"
   },
   {
    "duration": 23,
    "start_time": "2024-08-07T14:42:25.578Z"
   },
   {
    "duration": 5,
    "start_time": "2024-08-07T14:43:07.303Z"
   },
   {
    "duration": 4,
    "start_time": "2024-08-07T14:43:22.012Z"
   },
   {
    "duration": 17,
    "start_time": "2024-08-07T14:50:17.847Z"
   },
   {
    "duration": 322,
    "start_time": "2024-08-07T21:31:08.494Z"
   },
   {
    "duration": 5113,
    "start_time": "2024-08-07T21:31:13.897Z"
   },
   {
    "duration": 37,
    "start_time": "2024-08-07T21:31:19.014Z"
   },
   {
    "duration": 14,
    "start_time": "2024-08-07T21:31:19.054Z"
   },
   {
    "duration": 32,
    "start_time": "2024-08-07T21:31:19.073Z"
   },
   {
    "duration": 18,
    "start_time": "2024-08-07T21:31:19.108Z"
   },
   {
    "duration": 9,
    "start_time": "2024-08-07T21:31:19.129Z"
   },
   {
    "duration": 7,
    "start_time": "2024-08-07T21:31:19.142Z"
   },
   {
    "duration": 51,
    "start_time": "2024-08-07T21:31:19.152Z"
   },
   {
    "duration": 11,
    "start_time": "2024-08-07T21:31:19.206Z"
   },
   {
    "duration": 14,
    "start_time": "2024-08-07T21:31:19.222Z"
   },
   {
    "duration": 15,
    "start_time": "2024-08-07T21:31:19.239Z"
   },
   {
    "duration": 9,
    "start_time": "2024-08-07T21:31:19.301Z"
   },
   {
    "duration": 22,
    "start_time": "2024-08-07T21:31:19.314Z"
   },
   {
    "duration": 437,
    "start_time": "2024-08-07T21:31:19.340Z"
   },
   {
    "duration": 50,
    "start_time": "2024-08-07T21:31:19.780Z"
   },
   {
    "duration": 7,
    "start_time": "2024-08-07T21:31:19.833Z"
   },
   {
    "duration": 21,
    "start_time": "2024-08-07T21:31:19.843Z"
   },
   {
    "duration": 307,
    "start_time": "2024-08-07T21:31:19.867Z"
   },
   {
    "duration": 25,
    "start_time": "2024-08-07T21:31:20.177Z"
   },
   {
    "duration": 18,
    "start_time": "2024-08-07T21:31:20.205Z"
   },
   {
    "duration": 366,
    "start_time": "2024-08-07T21:31:20.226Z"
   },
   {
    "duration": 11,
    "start_time": "2024-08-07T21:31:20.603Z"
   },
   {
    "duration": 3,
    "start_time": "2024-08-07T21:31:20.618Z"
   },
   {
    "duration": 8,
    "start_time": "2024-08-07T21:31:20.624Z"
   },
   {
    "duration": 14,
    "start_time": "2024-08-07T21:31:20.635Z"
   },
   {
    "duration": 68,
    "start_time": "2024-08-07T21:31:20.652Z"
   },
   {
    "duration": 309,
    "start_time": "2024-08-07T21:31:20.723Z"
   },
   {
    "duration": 19,
    "start_time": "2024-08-07T21:31:21.039Z"
   },
   {
    "duration": 6,
    "start_time": "2024-08-07T21:31:21.062Z"
   },
   {
    "duration": 316,
    "start_time": "2024-08-08T00:31:58.745Z"
   },
   {
    "duration": 23,
    "start_time": "2024-08-08T00:32:04.895Z"
   },
   {
    "duration": 4986,
    "start_time": "2024-08-08T00:32:10.233Z"
   },
   {
    "duration": 37,
    "start_time": "2024-08-08T00:32:15.223Z"
   },
   {
    "duration": 14,
    "start_time": "2024-08-08T00:32:15.263Z"
   },
   {
    "duration": 17,
    "start_time": "2024-08-08T00:32:15.292Z"
   },
   {
    "duration": 17,
    "start_time": "2024-08-08T00:32:15.313Z"
   },
   {
    "duration": 10,
    "start_time": "2024-08-08T00:32:15.332Z"
   },
   {
    "duration": 47,
    "start_time": "2024-08-08T00:32:15.346Z"
   },
   {
    "duration": 3,
    "start_time": "2024-08-08T00:32:15.396Z"
   },
   {
    "duration": 12,
    "start_time": "2024-08-08T00:32:15.402Z"
   },
   {
    "duration": 14,
    "start_time": "2024-08-08T00:32:15.418Z"
   },
   {
    "duration": 64,
    "start_time": "2024-08-08T00:32:15.434Z"
   },
   {
    "duration": 9,
    "start_time": "2024-08-08T00:32:15.502Z"
   },
   {
    "duration": 22,
    "start_time": "2024-08-08T00:32:15.515Z"
   },
   {
    "duration": 436,
    "start_time": "2024-08-08T00:32:15.543Z"
   },
   {
    "duration": 51,
    "start_time": "2024-08-08T00:32:15.982Z"
   },
   {
    "duration": 9,
    "start_time": "2024-08-08T00:32:16.037Z"
   },
   {
    "duration": 52,
    "start_time": "2024-08-08T00:32:16.049Z"
   },
   {
    "duration": 285,
    "start_time": "2024-08-08T00:32:16.105Z"
   },
   {
    "duration": 11,
    "start_time": "2024-08-08T00:32:16.393Z"
   },
   {
    "duration": 18,
    "start_time": "2024-08-08T00:32:16.408Z"
   },
   {
    "duration": 367,
    "start_time": "2024-08-08T00:32:16.430Z"
   },
   {
    "duration": 11,
    "start_time": "2024-08-08T00:32:16.800Z"
   },
   {
    "duration": 4,
    "start_time": "2024-08-08T00:32:16.815Z"
   },
   {
    "duration": 7,
    "start_time": "2024-08-08T00:32:16.822Z"
   },
   {
    "duration": 57,
    "start_time": "2024-08-08T00:32:16.833Z"
   },
   {
    "duration": 22,
    "start_time": "2024-08-08T00:32:16.893Z"
   },
   {
    "duration": 309,
    "start_time": "2024-08-08T00:32:16.918Z"
   },
   {
    "duration": 17,
    "start_time": "2024-08-08T00:32:17.231Z"
   },
   {
    "duration": 5,
    "start_time": "2024-08-08T00:32:17.252Z"
   },
   {
    "duration": 30,
    "start_time": "2024-08-08T00:33:12.068Z"
   },
   {
    "duration": 9,
    "start_time": "2024-08-08T01:10:46.353Z"
   },
   {
    "duration": 468,
    "start_time": "2024-08-08T01:10:50.926Z"
   },
   {
    "duration": 4,
    "start_time": "2024-08-08T01:10:59.845Z"
   },
   {
    "duration": 832,
    "start_time": "2024-08-08T01:11:04.797Z"
   },
   {
    "duration": 884,
    "start_time": "2024-08-08T01:19:44.612Z"
   },
   {
    "duration": 818,
    "start_time": "2024-08-08T01:30:00.173Z"
   },
   {
    "duration": 844,
    "start_time": "2024-08-08T01:44:31.254Z"
   },
   {
    "duration": 833,
    "start_time": "2024-08-08T01:44:37.510Z"
   },
   {
    "duration": 817,
    "start_time": "2024-08-08T01:45:20.969Z"
   },
   {
    "duration": 910,
    "start_time": "2024-08-08T01:45:28.785Z"
   },
   {
    "duration": 849,
    "start_time": "2024-08-08T01:45:58.171Z"
   },
   {
    "duration": 1008,
    "start_time": "2024-08-08T01:46:33.406Z"
   },
   {
    "duration": 9,
    "start_time": "2024-08-08T01:52:34.341Z"
   },
   {
    "duration": 20,
    "start_time": "2024-08-08T01:56:41.948Z"
   },
   {
    "duration": 335,
    "start_time": "2024-08-08T04:35:53.632Z"
   },
   {
    "duration": 4977,
    "start_time": "2024-08-08T04:36:01.131Z"
   },
   {
    "duration": 44,
    "start_time": "2024-08-08T04:36:06.111Z"
   },
   {
    "duration": 12,
    "start_time": "2024-08-08T04:36:06.161Z"
   },
   {
    "duration": 17,
    "start_time": "2024-08-08T04:36:06.177Z"
   },
   {
    "duration": 26,
    "start_time": "2024-08-08T04:36:06.197Z"
   },
   {
    "duration": 10,
    "start_time": "2024-08-08T04:36:06.225Z"
   },
   {
    "duration": 7,
    "start_time": "2024-08-08T04:36:06.238Z"
   },
   {
    "duration": 7,
    "start_time": "2024-08-08T04:36:06.249Z"
   },
   {
    "duration": 59,
    "start_time": "2024-08-08T04:36:06.259Z"
   },
   {
    "duration": 12,
    "start_time": "2024-08-08T04:36:06.325Z"
   },
   {
    "duration": 15,
    "start_time": "2024-08-08T04:36:06.340Z"
   },
   {
    "duration": 8,
    "start_time": "2024-08-08T04:36:06.358Z"
   },
   {
    "duration": 63,
    "start_time": "2024-08-08T04:36:06.369Z"
   },
   {
    "duration": 409,
    "start_time": "2024-08-08T04:36:06.435Z"
   },
   {
    "duration": 35,
    "start_time": "2024-08-08T04:36:06.847Z"
   },
   {
    "duration": 28,
    "start_time": "2024-08-08T04:36:06.886Z"
   },
   {
    "duration": 20,
    "start_time": "2024-08-08T04:36:06.917Z"
   },
   {
    "duration": 290,
    "start_time": "2024-08-08T04:36:06.940Z"
   },
   {
    "duration": 6,
    "start_time": "2024-08-08T04:36:07.233Z"
   },
   {
    "duration": 19,
    "start_time": "2024-08-08T04:36:07.241Z"
   },
   {
    "duration": 360,
    "start_time": "2024-08-08T04:36:07.263Z"
   },
   {
    "duration": 20,
    "start_time": "2024-08-08T04:36:07.627Z"
   },
   {
    "duration": 456,
    "start_time": "2024-08-08T04:36:07.650Z"
   },
   {
    "duration": 937,
    "start_time": "2024-08-08T04:36:08.113Z"
   },
   {
    "duration": 5,
    "start_time": "2024-08-08T04:36:09.053Z"
   },
   {
    "duration": 14,
    "start_time": "2024-08-08T04:36:09.062Z"
   },
   {
    "duration": 50,
    "start_time": "2024-08-08T04:36:09.079Z"
   },
   {
    "duration": 293,
    "start_time": "2024-08-08T04:36:09.135Z"
   },
   {
    "duration": 18,
    "start_time": "2024-08-08T04:36:09.431Z"
   },
   {
    "duration": 5,
    "start_time": "2024-08-08T04:36:09.452Z"
   },
   {
    "duration": 15,
    "start_time": "2024-08-08T04:36:09.461Z"
   },
   {
    "duration": 0,
    "start_time": "2024-08-08T04:36:09.479Z"
   },
   {
    "duration": 5,
    "start_time": "2024-08-08T04:48:27.178Z"
   },
   {
    "duration": 1129,
    "start_time": "2024-08-08T04:48:31.714Z"
   },
   {
    "duration": 6,
    "start_time": "2024-08-08T04:48:43.173Z"
   },
   {
    "duration": 19,
    "start_time": "2024-08-08T04:49:00.996Z"
   },
   {
    "duration": 5,
    "start_time": "2024-08-08T04:53:04.801Z"
   },
   {
    "duration": 481,
    "start_time": "2024-08-08T04:53:13.581Z"
   },
   {
    "duration": 21,
    "start_time": "2024-08-08T04:53:27.486Z"
   },
   {
    "duration": 9,
    "start_time": "2024-08-08T04:55:50.610Z"
   },
   {
    "duration": 5,
    "start_time": "2024-08-08T04:56:02.959Z"
   },
   {
    "duration": 22,
    "start_time": "2024-08-08T04:56:12.984Z"
   },
   {
    "duration": 632,
    "start_time": "2024-08-08T04:56:46.330Z"
   },
   {
    "duration": 653,
    "start_time": "2024-08-08T04:57:09.604Z"
   },
   {
    "duration": 7,
    "start_time": "2024-08-08T04:57:29.382Z"
   },
   {
    "duration": 556,
    "start_time": "2024-08-08T05:15:42.599Z"
   },
   {
    "duration": 20,
    "start_time": "2024-08-08T05:16:15.932Z"
   },
   {
    "duration": 1231,
    "start_time": "2024-08-08T05:18:56.030Z"
   },
   {
    "duration": 25,
    "start_time": "2024-08-08T05:18:57.264Z"
   },
   {
    "duration": 25,
    "start_time": "2024-08-08T05:18:57.291Z"
   },
   {
    "duration": 16,
    "start_time": "2024-08-08T05:18:57.319Z"
   },
   {
    "duration": 17,
    "start_time": "2024-08-08T05:18:57.340Z"
   },
   {
    "duration": 52,
    "start_time": "2024-08-08T05:18:57.360Z"
   },
   {
    "duration": 8,
    "start_time": "2024-08-08T05:18:57.415Z"
   },
   {
    "duration": 3,
    "start_time": "2024-08-08T05:18:57.426Z"
   },
   {
    "duration": 10,
    "start_time": "2024-08-08T05:18:57.433Z"
   },
   {
    "duration": 14,
    "start_time": "2024-08-08T05:18:57.445Z"
   },
   {
    "duration": 57,
    "start_time": "2024-08-08T05:18:57.462Z"
   },
   {
    "duration": 10,
    "start_time": "2024-08-08T05:18:57.522Z"
   },
   {
    "duration": 22,
    "start_time": "2024-08-08T05:18:57.536Z"
   },
   {
    "duration": 432,
    "start_time": "2024-08-08T05:18:57.565Z"
   },
   {
    "duration": 44,
    "start_time": "2024-08-08T05:18:58.000Z"
   },
   {
    "duration": 6,
    "start_time": "2024-08-08T05:18:58.047Z"
   },
   {
    "duration": 19,
    "start_time": "2024-08-08T05:18:58.056Z"
   },
   {
    "duration": 302,
    "start_time": "2024-08-08T05:18:58.077Z"
   },
   {
    "duration": 6,
    "start_time": "2024-08-08T05:18:58.382Z"
   },
   {
    "duration": 35,
    "start_time": "2024-08-08T05:18:58.391Z"
   },
   {
    "duration": 405,
    "start_time": "2024-08-08T05:18:58.429Z"
   },
   {
    "duration": 22,
    "start_time": "2024-08-08T05:18:58.837Z"
   },
   {
    "duration": 488,
    "start_time": "2024-08-08T05:18:58.861Z"
   },
   {
    "duration": 861,
    "start_time": "2024-08-08T05:18:59.353Z"
   },
   {
    "duration": 7,
    "start_time": "2024-08-08T05:19:00.217Z"
   },
   {
    "duration": 12,
    "start_time": "2024-08-08T05:19:00.227Z"
   },
   {
    "duration": 21,
    "start_time": "2024-08-08T05:19:00.242Z"
   },
   {
    "duration": 316,
    "start_time": "2024-08-08T05:19:00.265Z"
   },
   {
    "duration": 34,
    "start_time": "2024-08-08T05:19:00.584Z"
   },
   {
    "duration": 5,
    "start_time": "2024-08-08T05:19:00.622Z"
   },
   {
    "duration": 7,
    "start_time": "2024-08-08T05:19:00.629Z"
   },
   {
    "duration": 731,
    "start_time": "2024-08-08T05:19:00.639Z"
   },
   {
    "duration": 328,
    "start_time": "2024-08-08T18:16:40.520Z"
   },
   {
    "duration": 6071,
    "start_time": "2024-08-08T18:16:52.011Z"
   },
   {
    "duration": 54,
    "start_time": "2024-08-08T18:16:58.088Z"
   },
   {
    "duration": 20,
    "start_time": "2024-08-08T18:16:58.147Z"
   },
   {
    "duration": 56,
    "start_time": "2024-08-08T18:16:58.172Z"
   },
   {
    "duration": 28,
    "start_time": "2024-08-08T18:16:58.237Z"
   },
   {
    "duration": 15,
    "start_time": "2024-08-08T18:16:58.269Z"
   },
   {
    "duration": 10,
    "start_time": "2024-08-08T18:16:58.329Z"
   },
   {
    "duration": 249,
    "start_time": "2024-08-08T18:16:58.343Z"
   },
   {
    "duration": 0,
    "start_time": "2024-08-08T18:16:58.598Z"
   },
   {
    "duration": 0,
    "start_time": "2024-08-08T18:16:58.603Z"
   },
   {
    "duration": 0,
    "start_time": "2024-08-08T18:16:58.607Z"
   },
   {
    "duration": 0,
    "start_time": "2024-08-08T18:16:58.630Z"
   },
   {
    "duration": 0,
    "start_time": "2024-08-08T18:16:58.632Z"
   },
   {
    "duration": 0,
    "start_time": "2024-08-08T18:16:58.636Z"
   },
   {
    "duration": 0,
    "start_time": "2024-08-08T18:16:58.639Z"
   },
   {
    "duration": 0,
    "start_time": "2024-08-08T18:16:58.642Z"
   },
   {
    "duration": 0,
    "start_time": "2024-08-08T18:16:58.645Z"
   },
   {
    "duration": 0,
    "start_time": "2024-08-08T18:16:58.649Z"
   },
   {
    "duration": 0,
    "start_time": "2024-08-08T18:16:58.654Z"
   },
   {
    "duration": 0,
    "start_time": "2024-08-08T18:16:58.659Z"
   },
   {
    "duration": 0,
    "start_time": "2024-08-08T18:16:58.661Z"
   },
   {
    "duration": 1,
    "start_time": "2024-08-08T18:16:58.664Z"
   },
   {
    "duration": 0,
    "start_time": "2024-08-08T18:16:58.668Z"
   },
   {
    "duration": 0,
    "start_time": "2024-08-08T18:16:58.672Z"
   },
   {
    "duration": 0,
    "start_time": "2024-08-08T18:16:58.731Z"
   },
   {
    "duration": 0,
    "start_time": "2024-08-08T18:16:58.735Z"
   },
   {
    "duration": 1,
    "start_time": "2024-08-08T18:16:58.739Z"
   },
   {
    "duration": 0,
    "start_time": "2024-08-08T18:16:58.743Z"
   },
   {
    "duration": 0,
    "start_time": "2024-08-08T18:16:58.747Z"
   },
   {
    "duration": 0,
    "start_time": "2024-08-08T18:16:58.751Z"
   },
   {
    "duration": 0,
    "start_time": "2024-08-08T18:16:58.755Z"
   },
   {
    "duration": 0,
    "start_time": "2024-08-08T18:16:58.758Z"
   },
   {
    "duration": 9,
    "start_time": "2024-08-08T18:30:05.017Z"
   },
   {
    "duration": 7,
    "start_time": "2024-08-08T18:30:11.259Z"
   },
   {
    "duration": 1289,
    "start_time": "2024-08-08T18:30:17.058Z"
   },
   {
    "duration": 25,
    "start_time": "2024-08-08T18:30:18.351Z"
   },
   {
    "duration": 14,
    "start_time": "2024-08-08T18:30:18.378Z"
   },
   {
    "duration": 40,
    "start_time": "2024-08-08T18:30:18.395Z"
   },
   {
    "duration": 19,
    "start_time": "2024-08-08T18:30:18.440Z"
   },
   {
    "duration": 9,
    "start_time": "2024-08-08T18:30:18.462Z"
   },
   {
    "duration": 8,
    "start_time": "2024-08-08T18:30:18.475Z"
   },
   {
    "duration": 7,
    "start_time": "2024-08-08T18:30:18.527Z"
   },
   {
    "duration": 11,
    "start_time": "2024-08-08T18:30:18.537Z"
   },
   {
    "duration": 13,
    "start_time": "2024-08-08T18:30:18.551Z"
   },
   {
    "duration": 58,
    "start_time": "2024-08-08T18:30:18.569Z"
   },
   {
    "duration": 9,
    "start_time": "2024-08-08T18:30:18.630Z"
   },
   {
    "duration": 21,
    "start_time": "2024-08-08T18:30:18.643Z"
   },
   {
    "duration": 415,
    "start_time": "2024-08-08T18:30:18.670Z"
   },
   {
    "duration": 48,
    "start_time": "2024-08-08T18:30:19.088Z"
   },
   {
    "duration": 7,
    "start_time": "2024-08-08T18:30:19.139Z"
   },
   {
    "duration": 19,
    "start_time": "2024-08-08T18:30:19.149Z"
   },
   {
    "duration": 301,
    "start_time": "2024-08-08T18:30:19.171Z"
   },
   {
    "duration": 6,
    "start_time": "2024-08-08T18:30:19.475Z"
   },
   {
    "duration": 18,
    "start_time": "2024-08-08T18:30:19.484Z"
   },
   {
    "duration": 404,
    "start_time": "2024-08-08T18:30:19.528Z"
   },
   {
    "duration": 20,
    "start_time": "2024-08-08T18:30:19.935Z"
   },
   {
    "duration": 410,
    "start_time": "2024-08-08T18:30:19.958Z"
   },
   {
    "duration": 864,
    "start_time": "2024-08-08T18:30:20.370Z"
   },
   {
    "duration": 6,
    "start_time": "2024-08-08T18:30:21.237Z"
   },
   {
    "duration": 13,
    "start_time": "2024-08-08T18:30:21.246Z"
   },
   {
    "duration": 21,
    "start_time": "2024-08-08T18:30:21.262Z"
   },
   {
    "duration": 330,
    "start_time": "2024-08-08T18:30:21.285Z"
   },
   {
    "duration": 21,
    "start_time": "2024-08-08T18:30:21.618Z"
   },
   {
    "duration": 5,
    "start_time": "2024-08-08T18:30:21.642Z"
   },
   {
    "duration": 9,
    "start_time": "2024-08-08T18:30:21.650Z"
   },
   {
    "duration": 717,
    "start_time": "2024-08-08T18:30:21.662Z"
   },
   {
    "duration": 484,
    "start_time": "2024-08-08T18:33:13.082Z"
   },
   {
    "duration": 455,
    "start_time": "2024-08-08T18:34:00.489Z"
   },
   {
    "duration": 23,
    "start_time": "2024-08-08T18:35:58.824Z"
   },
   {
    "duration": 21,
    "start_time": "2024-08-08T18:36:16.537Z"
   },
   {
    "duration": 1181,
    "start_time": "2024-08-08T18:36:47.612Z"
   },
   {
    "duration": 464,
    "start_time": "2024-08-08T18:36:55.275Z"
   },
   {
    "duration": 1461,
    "start_time": "2024-08-08T18:37:09.665Z"
   },
   {
    "duration": 425,
    "start_time": "2024-08-08T18:37:23.882Z"
   },
   {
    "duration": 972,
    "start_time": "2024-08-08T18:50:52.825Z"
   },
   {
    "duration": 914,
    "start_time": "2024-08-08T18:51:07.302Z"
   },
   {
    "duration": 845,
    "start_time": "2024-08-08T18:51:15.270Z"
   },
   {
    "duration": 835,
    "start_time": "2024-08-08T18:51:22.359Z"
   },
   {
    "duration": 949,
    "start_time": "2024-08-08T18:51:40.745Z"
   },
   {
    "duration": 902,
    "start_time": "2024-08-08T18:51:53.519Z"
   },
   {
    "duration": 750,
    "start_time": "2024-08-08T18:53:51.965Z"
   },
   {
    "duration": 280,
    "start_time": "2024-08-08T19:27:23.247Z"
   },
   {
    "duration": 418,
    "start_time": "2024-08-08T20:01:34.597Z"
   },
   {
    "duration": 428,
    "start_time": "2024-08-08T20:01:47.102Z"
   },
   {
    "duration": 322,
    "start_time": "2024-08-08T22:10:33.376Z"
   },
   {
    "duration": 21,
    "start_time": "2024-08-08T22:10:49.009Z"
   },
   {
    "duration": 4871,
    "start_time": "2024-08-08T22:21:55.249Z"
   },
   {
    "duration": 30,
    "start_time": "2024-08-08T22:22:00.124Z"
   },
   {
    "duration": 13,
    "start_time": "2024-08-08T22:22:00.157Z"
   },
   {
    "duration": 39,
    "start_time": "2024-08-08T22:22:00.174Z"
   },
   {
    "duration": 16,
    "start_time": "2024-08-08T22:22:00.218Z"
   },
   {
    "duration": 9,
    "start_time": "2024-08-08T22:22:00.236Z"
   },
   {
    "duration": 7,
    "start_time": "2024-08-08T22:22:00.248Z"
   },
   {
    "duration": 8,
    "start_time": "2024-08-08T22:22:00.258Z"
   },
   {
    "duration": 11,
    "start_time": "2024-08-08T22:22:00.314Z"
   },
   {
    "duration": 14,
    "start_time": "2024-08-08T22:22:00.327Z"
   },
   {
    "duration": 15,
    "start_time": "2024-08-08T22:22:00.343Z"
   },
   {
    "duration": 52,
    "start_time": "2024-08-08T22:22:00.361Z"
   },
   {
    "duration": 23,
    "start_time": "2024-08-08T22:22:00.416Z"
   },
   {
    "duration": 827,
    "start_time": "2024-08-08T22:22:00.445Z"
   },
   {
    "duration": 22,
    "start_time": "2024-08-08T22:22:01.274Z"
   },
   {
    "duration": 288,
    "start_time": "2024-08-08T22:22:01.312Z"
   },
   {
    "duration": 23,
    "start_time": "2024-08-08T22:22:01.603Z"
   },
   {
    "duration": 352,
    "start_time": "2024-08-08T22:22:01.628Z"
   },
   {
    "duration": 38,
    "start_time": "2024-08-08T22:22:01.984Z"
   },
   {
    "duration": 405,
    "start_time": "2024-08-08T22:22:02.027Z"
   },
   {
    "duration": 930,
    "start_time": "2024-08-08T22:22:02.435Z"
   },
   {
    "duration": 6,
    "start_time": "2024-08-08T22:22:03.369Z"
   },
   {
    "duration": 34,
    "start_time": "2024-08-08T22:22:03.379Z"
   },
   {
    "duration": 28,
    "start_time": "2024-08-08T22:22:03.419Z"
   },
   {
    "duration": 381,
    "start_time": "2024-08-08T22:22:03.450Z"
   },
   {
    "duration": 18,
    "start_time": "2024-08-08T22:22:03.834Z"
   },
   {
    "duration": 5,
    "start_time": "2024-08-08T22:22:03.855Z"
   },
   {
    "duration": 6,
    "start_time": "2024-08-08T22:22:03.862Z"
   },
   {
    "duration": 718,
    "start_time": "2024-08-08T22:22:03.871Z"
   },
   {
    "duration": 4979,
    "start_time": "2024-08-12T04:47:46.985Z"
   },
   {
    "duration": 38,
    "start_time": "2024-08-12T04:47:51.968Z"
   },
   {
    "duration": 14,
    "start_time": "2024-08-12T04:47:52.009Z"
   },
   {
    "duration": 16,
    "start_time": "2024-08-12T04:47:52.027Z"
   },
   {
    "duration": 56,
    "start_time": "2024-08-12T04:47:52.046Z"
   },
   {
    "duration": 10,
    "start_time": "2024-08-12T04:47:52.105Z"
   },
   {
    "duration": 11,
    "start_time": "2024-08-12T04:47:52.118Z"
   },
   {
    "duration": 6,
    "start_time": "2024-08-12T04:47:52.133Z"
   },
   {
    "duration": 59,
    "start_time": "2024-08-12T04:47:52.142Z"
   },
   {
    "duration": 14,
    "start_time": "2024-08-12T04:47:52.208Z"
   },
   {
    "duration": 17,
    "start_time": "2024-08-12T04:47:52.225Z"
   },
   {
    "duration": 9,
    "start_time": "2024-08-12T04:47:52.245Z"
   },
   {
    "duration": 23,
    "start_time": "2024-08-12T04:47:52.301Z"
   },
   {
    "duration": 812,
    "start_time": "2024-08-12T04:47:52.327Z"
   },
   {
    "duration": 21,
    "start_time": "2024-08-12T04:47:53.142Z"
   },
   {
    "duration": 282,
    "start_time": "2024-08-12T04:47:53.166Z"
   },
   {
    "duration": 67,
    "start_time": "2024-08-12T04:47:53.451Z"
   },
   {
    "duration": 338,
    "start_time": "2024-08-12T04:47:53.521Z"
   },
   {
    "duration": 22,
    "start_time": "2024-08-12T04:47:53.862Z"
   },
   {
    "duration": 404,
    "start_time": "2024-08-12T04:47:53.904Z"
   },
   {
    "duration": 963,
    "start_time": "2024-08-12T04:47:54.311Z"
   },
   {
    "duration": 7,
    "start_time": "2024-08-12T04:47:55.278Z"
   },
   {
    "duration": 29,
    "start_time": "2024-08-12T04:47:55.288Z"
   },
   {
    "duration": 23,
    "start_time": "2024-08-12T04:47:55.320Z"
   },
   {
    "duration": 342,
    "start_time": "2024-08-12T04:47:55.346Z"
   },
   {
    "duration": 19,
    "start_time": "2024-08-12T04:47:55.701Z"
   },
   {
    "duration": 4,
    "start_time": "2024-08-12T04:47:55.724Z"
   },
   {
    "duration": 6,
    "start_time": "2024-08-12T04:47:55.737Z"
   },
   {
    "duration": 747,
    "start_time": "2024-08-12T04:47:55.747Z"
   }
  ],
  "kernelspec": {
   "display_name": "Python 3 (ipykernel)",
   "language": "python",
   "name": "python3"
  },
  "language_info": {
   "codemirror_mode": {
    "name": "ipython",
    "version": 3
   },
   "file_extension": ".py",
   "mimetype": "text/x-python",
   "name": "python",
   "nbconvert_exporter": "python",
   "pygments_lexer": "ipython3",
   "version": "3.11.7"
  },
  "toc": {
   "base_numbering": 1,
   "nav_menu": {},
   "number_sections": true,
   "sideBar": true,
   "skip_h1_title": true,
   "title_cell": "Table of Contents",
   "title_sidebar": "Contents",
   "toc_cell": false,
   "toc_position": {
    "height": "calc(100% - 180px)",
    "left": "10px",
    "top": "150px",
    "width": "165px"
   },
   "toc_section_display": true,
   "toc_window_display": true
  }
 },
 "nbformat": 4,
 "nbformat_minor": 4
}
